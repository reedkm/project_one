{
 "cells": [
  {
   "cell_type": "code",
   "execution_count": null,
   "metadata": {},
   "outputs": [],
   "source": [
    "%matplotlib notebook\n",
    "# Dependencies and Setup\n",
    "import matplotlib.pyplot as plt\n",
    "import pandas as pd\n",
    "import numpy as np\n",
    "import requests\n",
    "import time\n",
    "%matplotlib inline\n",
    "import json\n",
    "\n",
    "import gmaps \n",
    "from config import gkey\n",
    "# Configure gmaps\n",
    "# Access maps with unique API key\n",
    "gmaps.configure(api_key=gkey)"
   ]
  },
  {
   "cell_type": "code",
   "execution_count": null,
   "metadata": {},
   "outputs": [],
   "source": [
    "#1. The mean duration of players in NBA for each school is in proportion to the total number of players in NBA for that school. \n",
    "#I am thinking to these findings on Gmap for each school.  \n",
    "#Also I plot a scatter bubble chart, The bubble represents the mean duration of players in NBA for each school.\n",
    "\n"
   ]
  },
  {
   "cell_type": "code",
   "execution_count": null,
   "metadata": {},
   "outputs": [],
   "source": [
    "# Working steps:\n",
    "#1. Pull in player data to get their mean duration in NBA for each school. \n",
    "#2. Using the same dataset, I will group the data by school and get the total number of players for each school.\n",
    "#3. Plot the total number of players vs the mean duration of players for each school in Gmap\n",
    "#4. Plot the scatter plot and add a trend line for each school to see there are any trends."
   ]
  },
  {
   "cell_type": "code",
   "execution_count": null,
   "metadata": {},
   "outputs": [],
   "source": [
    "player_dataCsv = 'player_data_new.csv'\n",
    "player_data_DF = pd.read_csv(player_dataCsv)\n",
    "\n",
    "player_data_DF['duration'] = player_data_DF['year_end'] - player_data_DF['year_start'] \n",
    "player_data_DF.head()\n",
    "\n",
    "player_data_DF_clean = player_data_DF[['college','name', 'duration']]\n",
    "player_data_DF_gp = player_data_DF_clean.groupby('college')\n",
    "player_data_summary = player_data_DF_gp[['duration']].mean()\n",
    "player_data_summary = player_data_summary[player_data_summary['duration']> 0].reset_index().sort_values('college')\n",
    "player_data_summary.head()"
   ]
  },
  {
   "cell_type": "code",
   "execution_count": null,
   "metadata": {},
   "outputs": [],
   "source": [
    "College_numberOfPlayer = player_data_DF_clean.groupby('college')[['name']].count().reset_index()\n",
    "College_numberOfPlayer.head()"
   ]
  },
  {
   "cell_type": "code",
   "execution_count": null,
   "metadata": {},
   "outputs": [],
   "source": [
    "merge_player_college = pd.merge(player_data_summary, College_numberOfPlayer, how='inner',  on='college')\n",
    "\n",
    "merge_player_college = merge_player_college.rename(columns={'name':'count of player'})\n",
    "countOfPlayerlist = list(merge_player_college['count of player'])\n",
    "durationList = list(merge_player_college['duration'])\n",
    "\n",
    "#Plotting\n",
    "plt.figure(figsize=(18,14))\n",
    "plt.scatter(countOfPlayerlist, durationList, marker=\"o\", s=100, facecolors=\"purple\", edgecolors=\"black\", alpha=0.60)\n",
    "plt.xlabel('Number of Player in NBA',fontsize='18')\n",
    "\n",
    "plt.ylabel('Duration in NBA', fontsize='18')\n",
    "plt.title('Number of Player per college in NBA vs Mean Duration Stay in NBA', fontsize='24')\n",
    "plt.grid()\n",
    "plt.savefig(\"Player_count_vs_avg_stay_in_NBA.png\")\n",
    "plt.show()\n",
    "\n"
   ]
  },
  {
   "cell_type": "code",
   "execution_count": null,
   "metadata": {},
   "outputs": [],
   "source": [
    "# Need gkey to run this code\n",
    "\n",
    "merge_player_college['lat'] = \"\"\n",
    "merge_player_college['lng'] = \"\"\n",
    "\n",
    "target_type = \"university\"\n",
    "\n",
    "# set up a parameters dictionary\n",
    "params3 = {\n",
    "    \"key\": gkey,\n",
    "    \"type\": target_type\n",
    "    }\n",
    "\n",
    "\n",
    "\n",
    "target_url= \"https://maps.googleapis.com/maps/api/geocode/json\"\n",
    "\n",
    "for index, row in merge_player_college.iterrows():\n",
    "    \n",
    "    college=row['college']\n",
    "    params3['address'] = college\n",
    "        \n",
    "    geo_data = requests.get(target_url, params= params3).json()\n",
    "    merge_player_college.loc[index, 'lat'] = geo_data[\"results\"][0][\"geometry\"][\"location\"][\"lat\"]\n",
    "    merge_player_college.loc[index, 'lng'] = geo_data[\"results\"][0][\"geometry\"][\"location\"][\"lng\"]\n",
    "    \n",
    "merge_player_college.head()\n",
    "\n"
   ]
  },
  {
   "cell_type": "code",
   "execution_count": null,
   "metadata": {
    "scrolled": true
   },
   "outputs": [],
   "source": [
    "# Store latitude and longitude in locations\n",
    "locations = merge_player_college[['lat','lng']]\n",
    "\n",
    "duration = merge_player_college['duration'].astype(float)\n",
    "\n",
    "\n",
    "\n",
    "# Plot Heatmap\n",
    "\n",
    "fig = gmaps.figure()\n",
    "\n",
    "heat_layer = gmaps.heatmap_layer(locations, weights = duration, dissipating=False, max_intensity=8, point_radius=.75)\n",
    "fig.add_layer(heat_layer)\n",
    "\n",
    "\n",
    "fig\n",
    "\n"
   ]
  },
  {
   "cell_type": "code",
   "execution_count": null,
   "metadata": {},
   "outputs": [],
   "source": [
    "# Store latitude and longitude in locations\n",
    "locations = merge_player_college[['lat','lng']]\n",
    "\n",
    "\n",
    "count = merge_player_college['count of player'].astype(float)\n",
    "\n",
    "# Plot Heatmap\n",
    "\n",
    "\n",
    "fig = gmaps.figure()\n",
    "\n",
    "heat_layer = gmaps.heatmap_layer(locations, weights = count, dissipating=False, max_intensity=15, point_radius=0.75)\n",
    "fig.add_layer(heat_layer)\n",
    "\n",
    "fig\n",
    "\n"
   ]
  },
  {
   "cell_type": "code",
   "execution_count": null,
   "metadata": {},
   "outputs": [],
   "source": [
    "Seasons_Stats_file = 'Seasons_Stats.csv'\n",
    "Seasons_Stats_DF = pd.read_csv(Seasons_Stats_file)\n",
    "Seasons_Stats_DF.head()\n",
    "\n"
   ]
  },
  {
   "cell_type": "code",
   "execution_count": null,
   "metadata": {},
   "outputs": [],
   "source": [
    "#setting up the data list for plotting\n",
    "\n",
    "PAr = Seasons_Stats_DF.groupby(['Year'])['3PAr'].mean().dropna().reset_index()['3PAr']\n",
    "list_3PAr = list(PAr)\n",
    "Year = Seasons_Stats_DF.groupby(['Year'])['3PAr'].mean().dropna().reset_index()['Year']\n",
    "listYear = list(Year)\n",
    "\n",
    "#Plotting\n",
    "plt.figure(figsize=(18,14))\n",
    "plt.scatter(listYear, list_3PAr, marker=\"o\", s=200, facecolors=\"purple\", edgecolors=\"black\", alpha=0.60)\n",
    "plt.xlabel('Year Players In', fontsize=18)\n",
    "plt.ylabel('3 Point Average', fontsize=18)\n",
    "\n",
    "plt.title('3 Point Average (1980 - 2017)', fontsize=24)\n",
    "plt.grid()\n",
    "plt.savefig('ThreePointAv_overYear1980_2017.png')\n",
    "plt.show()"
   ]
  },
  {
   "cell_type": "code",
   "execution_count": null,
   "metadata": {},
   "outputs": [],
   "source": [
    "\n",
    "Year_3PAvr = Seasons_Stats_DF[Seasons_Stats_DF['Year'] >= 1980][['Year','Player','3PAr']]\n",
    "df_Year_3PAvr = Year_3PAvr.groupby(['Player', 'Year'])[['3PAr']].mean()\n",
    "new_df = df_Year_3PAvr.unstack()\n",
    "\n",
    "# remove the '3PAr' level\n",
    "new_df= new_df['3PAr']\n",
    "labelobj = list(new_df.columns)\n",
    "listlabel = [np.int(x) for x in labelobj]\n",
    "x_axis = np.arange(0,len(listlabel),1)\n",
    "# rename all column name removing trailing 0\n",
    "new_df.columns= listlabel \n",
    "\n",
    "fig, ax= plt.subplots(figsize=(18,14))\n",
    "\n",
    "ax.set_xticklabels(labelobj ,rotation='vertical', fontsize=16)\n",
    "#ax.tick_params(which='minor', length=5, labelsize=10, labelcolor='0.25')\n",
    "\n",
    "ax.set_yticklabels(new_df, fontsize=16)\n",
    "ax.set_title('3 Point Average (1980 - 2017)',  fontsize=18)\n",
    "ax.set_xlabel('Year', fontsize=16)\n",
    "ax.set_ylabel('3 Point Ratio Avg per NBA Player', fontsize=16)\n",
    "#top_10.plot(ax=ax)\n",
    "#plt.figure()\n",
    "#plt.xticks(x_axis, listlabel, rotation='vertical')\n",
    "#plt.xticks( listlabel,labelobj, rotation='vertical')\n",
    "\n",
    "bp = new_df.boxplot(rot=60, ax=ax)\n",
    "plt.savefig('BoxPlot_ThreePointAv_overYear1980_2017.png')\n",
    "\n",
    "\n"
   ]
  },
  {
   "cell_type": "code",
   "execution_count": null,
   "metadata": {},
   "outputs": [],
   "source": [
    "\n",
    "#setting up the data list for plotting\n",
    "\n",
    "PAr = Seasons_Stats_DF.groupby(['Year'])['3PAr'].mean().dropna().reset_index()['3PAr']\n",
    "list_3PAr = list(PAr)\n",
    "Year = Seasons_Stats_DF.groupby(['Year'])['3PAr'].mean().dropna().reset_index()['Year']\n",
    "listYear = list(Year)\n",
    "\n",
    "#Plotting\n",
    "plt.figure(figsize=(18,14))\n",
    "plt.scatter(listYear, list_3PAr, marker=\"o\", facecolors=\"purple\", edgecolors=\"black\", alpha=0.60)\n",
    "plt.xlabel('Year Players In', fontsize = 16)\n",
    "plt.ylabel('3 Point Average', fontsize = 16)\n",
    "\n",
    "plt.title('Year vs 3 Point Average ', fontsize= 16)\n",
    "plt.grid()\n"
   ]
  },
  {
   "cell_type": "code",
   "execution_count": null,
   "metadata": {},
   "outputs": [],
   "source": []
  }
 ],
 "metadata": {
  "kernelspec": {
   "display_name": "Python 3",
   "language": "python",
   "name": "python3"
  },
  "language_info": {
   "codemirror_mode": {
    "name": "ipython",
    "version": 3
   },
   "file_extension": ".py",
   "mimetype": "text/x-python",
   "name": "python",
   "nbconvert_exporter": "python",
   "pygments_lexer": "ipython3",
   "version": "3.6.5"
  }
 },
 "nbformat": 4,
 "nbformat_minor": 2
}
