{
 "cells": [
  {
   "cell_type": "code",
   "execution_count": null,
   "metadata": {},
   "outputs": [],
   "source": [
    "%matplotlib inline\n",
    "# Dependencies and Setup\n",
    "import matplotlib.pyplot as plt\n",
    "from matplotlib.patches import Patch\n",
    "import pandas as pd\n",
    "from pandas.tools.plotting import table\n",
    "from scipy import stats\n",
    "from mpl_toolkits.mplot3d import Axes3D\n",
    "import numpy as np\n",
    "import os\n",
    "import csv\n",
    "import requests\n",
    "import json\n",
    "import gmaps\n",
    "\n",
    "# Google developer API key\n",
    "from config import gkey\n",
    "\n",
    "# Configure gmaps\n",
    "gmaps.configure(api_key=gkey)\n",
    "\n",
    "url = \"http://data.nba.net/10s/prod/v1/2016/players.json\""
   ]
  },
  {
   "cell_type": "code",
   "execution_count": null,
   "metadata": {},
   "outputs": [],
   "source": [
    "# Files to Load\n",
    "player_data_to_load = os.path.join(\"player_data_cleaned.csv\")\n",
    "seasons_data_to_load = os.path.join(\"Seasons_stats.csv\")\n",
    "# Inspect budget data from U.S. Department of Education 2010-2017 https://ope.ed.gov/athletics/#/datafile/list\n",
    "budgets_2010_data_to_load = os.path.join(\"budgets/\",\"EADA2010.csv\")\n",
    "budgets_2011_data_to_load = os.path.join(\"budgets/\",\"EADA2011.csv\")\n",
    "budgets_2012_data_to_load = os.path.join(\"budgets/\",\"EADA2012.csv\")\n",
    "budgets_2013_data_to_load = os.path.join(\"budgets/\",\"EADA2013.csv\")\n",
    "budgets_2014_data_to_load = os.path.join(\"budgets/\",\"EADA2014.csv\")\n",
    "budgets_2015_data_to_load = os.path.join(\"budgets/\",\"EADA2015.csv\")\n",
    "budgets_2016_data_to_load = os.path.join(\"budgets/\",\"EADA2016.csv\")\n",
    "budgets_2017_data_to_load = os.path.join(\"budgets/\",\"EADA2017.csv\")\n",
    "\n",
    "# Read the Player and Season Data\n",
    "player_data_df = pd.read_csv(player_data_to_load, encoding=\"UTF-8\")\n",
    "seasons_data_df = pd.read_csv(seasons_data_to_load, encoding=\"UTF-8\")\n",
    "\n",
    "# Read the Budget Data From 2008-2017; reduce 4200+ columns to 17\n",
    "budget2010_data_df = pd.read_csv(budgets_2010_data_to_load, encoding=\"UTF-8\", usecols=[1, 4, 8, 10, 15, 26, 50, 143, 152, 158, 168, 316, 390, 427, 945, 3609, 3942])\n",
    "budget2011_data_df = pd.read_csv(budgets_2011_data_to_load, encoding=\"UTF-8\", usecols=[1, 4, 8, 10, 15, 26, 50, 143, 152, 158, 168, 316, 390, 427, 945, 3609, 3942])\n",
    "budget2012_data_df = pd.read_csv(budgets_2012_data_to_load, encoding=\"UTF-8\", usecols=[1, 4, 8, 10, 15, 26, 50, 143, 152, 158, 168, 316, 390, 427, 945, 3609, 3942])\n",
    "budget2013_data_df = pd.read_csv(budgets_2013_data_to_load, encoding=\"UTF-8\", usecols=[1, 4, 8, 10, 15, 26, 50, 143, 152, 158, 168, 316, 390, 427, 945, 3609, 3942])\n",
    "budget2014_data_df = pd.read_csv(budgets_2014_data_to_load, encoding=\"UTF-8\", usecols=[1, 4, 8, 10, 15, 26, 50, 143, 152, 158, 168, 316, 390, 427, 945, 3609, 3942])\n",
    "budget2015_data_df = pd.read_csv(budgets_2015_data_to_load, encoding=\"UTF-8\", usecols=[1, 4, 8, 10, 15, 26, 50, 143, 152, 158, 168, 316, 390, 427, 945, 3609, 3942])\n",
    "budget2016_data_df = pd.read_csv(budgets_2016_data_to_load, encoding=\"UTF-8\", usecols=[1, 4, 8, 10, 15, 26, 50, 143, 152, 158, 168, 316, 390, 427, 945, 3609, 3942])\n",
    "budget2017_data_df = pd.read_csv(budgets_2017_data_to_load, encoding=\"UTF-8\", usecols=[1, 4, 8, 10, 15, 26, 50, 143, 152, 158, 168, 316, 390, 427, 945, 3609, 3942])\n",
    "\n",
    "# Save the data table for preview\n",
    "#budget2010_data_df.to_csv(\"budget2010_data_df.csv\")\n",
    "#budget2011_data_df.to_csv(\"budget2011_data_df.csv\")\n",
    "#budget2012_data_df.to_csv(\"budget2012_data_df.csv\")\n",
    "#budget2013_data_df.to_csv(\"budget2013_data_df.csv\")\n",
    "#budget2014_data_df.to_csv(\"budget2014_data_df.csv\")\n",
    "#budget2015_data_df.to_csv(\"budget2015_data_df.csv\")\n",
    "#budget2016_data_df.to_csv(\"budget2016_data_df.csv\")\n",
    "#budget2017_data_df.to_csv(\"budget2017_data_df.csv\")"
   ]
  },
  {
   "cell_type": "code",
   "execution_count": null,
   "metadata": {},
   "outputs": [],
   "source": [
    "#cleaned up\n",
    "#University of California, Los Angeles\tUniversity of California-Los Angeles#\n",
    "#University of North Carolina\tUniversity of North Carolina at Chapel Hill\n",
    "#Indiana University\tIndiana University-Bloomington\n",
    "#St. John's University\tSt. John's University-New York\n",
    "#University of Michigan\tUniversity of Michigan-Ann Arbor\n",
    "#Ohio State University\tOhio State University-Main Campus\n",
    "#North Carolina State University\tNorth Carolina State University at Raleigh\n",
    "#University of Minnesota\tUniversity of Minnesota-Twin Cities\n",
    "#University of Maryland\tUniversity of Maryland-College Park\n",
    "#Louisiana State University\tLouisiana State University and Agricultural & Mechanical College\n",
    "#Georgia Institute of Technology\tGeorgia Institute of Technology-Main Campus\n",
    "#University of Nevada, Las Vegas\tUniversity of Nevada-Las Vegas"
   ]
  },
  {
   "cell_type": "code",
   "execution_count": null,
   "metadata": {},
   "outputs": [],
   "source": [
    "# Inspect budget data from U.S. Department of Education 2017 https://ope.ed.gov/athletics/#/datafile/list\n",
    "#budget2017_data_df.head()"
   ]
  },
  {
   "cell_type": "code",
   "execution_count": null,
   "metadata": {},
   "outputs": [],
   "source": [
    "#budget2017_data_df.count()"
   ]
  },
  {
   "cell_type": "code",
   "execution_count": null,
   "metadata": {},
   "outputs": [],
   "source": [
    "#Merge budget data in steps\n",
    "#1 - all imported together in pairs\n",
    "budget_data_merged_1 = pd.merge(budget2010_data_df, budget2011_data_df, on=\"institution_name\", suffixes=['_2010','_2011'], how=\"left\")\n",
    "budget_data_merged_2 = pd.merge(budget2012_data_df, budget2013_data_df, on=\"institution_name\", suffixes=['_2012','_2013'], how=\"left\")\n",
    "budget_data_merged_3 = pd.merge(budget2014_data_df, budget2015_data_df, on=\"institution_name\", suffixes=['_2014','_2015'], how=\"left\")\n",
    "budget_data_merged_4 = pd.merge(budget2016_data_df, budget2017_data_df, on=\"institution_name\", suffixes=['_2016','_2017'], how=\"left\")\n",
    "\n",
    "#2 - pairs merged agains\n",
    "budget_data_merged_6 = pd.merge(budget_data_merged_1, budget_data_merged_2, on=\"institution_name\", how=\"left\")\n",
    "budget_data_merged_7 = pd.merge(budget_data_merged_3, budget_data_merged_4, on=\"institution_name\", how=\"left\")\n",
    "\n",
    "#3 - final merge\n",
    "budget_data_merged_total = pd.merge(budget_data_merged_6, budget_data_merged_7, on=\"institution_name\", how=\"left\")\n",
    "\n",
    "budget_data_merged_total.to_csv(\"budget_data_merged_total.csv\")"
   ]
  },
  {
   "cell_type": "code",
   "execution_count": null,
   "metadata": {},
   "outputs": [],
   "source": [
    "# Add total columns for head coach salary, expenses, and revenues\n",
    "budget_data_merged_total_summed = budget_data_merged_total.copy()\n",
    "budget_data_merged_total_summed['Total_StudentAid'] = budget_data_merged_total['STUDENTAID_MEN_2010'] + budget_data_merged_total['STUDENTAID_MEN_2011'] + budget_data_merged_total['STUDENTAID_MEN_2012'] + budget_data_merged_total['STUDENTAID_MEN_2013'] + budget_data_merged_total['STUDENTAID_MEN_2014'] + budget_data_merged_total['STUDENTAID_MEN_2015'] + budget_data_merged_total['STUDENTAID_MEN_2016'] + budget_data_merged_total['STUDENTAID_MEN_2017']\n",
    "budget_data_merged_total_summed['Total_HeadCoachSalary'] = budget_data_merged_total['HDCOACH_SALARY_MEN_2010'] + budget_data_merged_total['HDCOACH_SALARY_MEN_2011'] + budget_data_merged_total['HDCOACH_SALARY_MEN_2012'] + budget_data_merged_total['HDCOACH_SALARY_MEN_2013'] + budget_data_merged_total['HDCOACH_SALARY_MEN_2014'] + budget_data_merged_total['HDCOACH_SALARY_MEN_2015'] + budget_data_merged_total['HDCOACH_SALARY_MEN_2016'] + budget_data_merged_total['HDCOACH_SALARY_MEN_2017']\n",
    "budget_data_merged_total_summed['Total_Revenue'] = budget_data_merged_total['REV_MEN_Bskball_2010'] + budget_data_merged_total['REV_MEN_Bskball_2011'] + budget_data_merged_total['REV_MEN_Bskball_2012'] + budget_data_merged_total['REV_MEN_Bskball_2013'] + budget_data_merged_total['REV_MEN_Bskball_2014'] + budget_data_merged_total['REV_MEN_Bskball_2015'] + budget_data_merged_total['EXP_MEN_Bskball_2016'] + budget_data_merged_total['EXP_MEN_Bskball_2017']\n",
    "budget_data_merged_total_summed['Total_Expense'] = budget_data_merged_total['EXP_MEN_Bskball_2010'] + budget_data_merged_total['EXP_MEN_Bskball_2011'] + budget_data_merged_total['EXP_MEN_Bskball_2012'] + budget_data_merged_total['EXP_MEN_Bskball_2013'] + budget_data_merged_total['EXP_MEN_Bskball_2014'] + budget_data_merged_total['EXP_MEN_Bskball_2015'] + budget_data_merged_total['REV_MEN_Bskball_2016'] + budget_data_merged_total['REV_MEN_Bskball_2017']\n",
    "#budget_data_merged_total_summed.head()\n",
    "#budget_data_merged_total_summed.to_csv(\"budget_data_merged_total_summed.csv\")"
   ]
  },
  {
   "cell_type": "code",
   "execution_count": null,
   "metadata": {},
   "outputs": [],
   "source": [
    "truncatedBudget_df = revenue_df = budget_data_merged_total_summed[['institution_name','Total_Revenue','Total_Expense']].copy()\n",
    "#truncatedBudget_df"
   ]
  },
  {
   "cell_type": "code",
   "execution_count": null,
   "metadata": {},
   "outputs": [],
   "source": [
    "#truncatedBudget_df.to_csv(\"truncatedBudget_df.csv\")"
   ]
  },
  {
   "cell_type": "code",
   "execution_count": null,
   "metadata": {},
   "outputs": [],
   "source": [
    "top25_df = budget_data_merged_total_summed[['institution_name','Total_StudentAid','Total_HeadCoachSalary','Total_Expense','Total_Revenue']].rename(columns={'Total_StudentAid':'Total Student Aid','Total_HeadCoachSalary':'Total Head Coach Salary','Total_Expense':'Total Expense','Total_Revenue':'Total Revenue'}).copy()\n",
    "top25_df = top25_df.sort_values(by='Total Expense', ascending=False)\n",
    "top25_df = top25_df.reset_index(drop=True).head(25)\n",
    "#top25_df.head()"
   ]
  },
  {
   "cell_type": "code",
   "execution_count": null,
   "metadata": {},
   "outputs": [],
   "source": [
    "#df3 = df[(df['count'] == '2')\n",
    "topSchool_df = budget_data_merged_total_summed.set_index(\"institution_name\")\n",
    "topSchool_df = topSchool_df.loc[['University of Kentucky']]\n",
    "#topSchool_df.to_csv(\"topSchool_df.csv\")\n",
    "topSchool_df = topSchool_df.reset_index(drop=True)\n",
    "#topSchool_df"
   ]
  },
  {
   "cell_type": "code",
   "execution_count": null,
   "metadata": {},
   "outputs": [],
   "source": [
    "topSchool_Coach_df = topSchool_df[['HDCOACH_SALARY_MEN_2010','HDCOACH_SALARY_MEN_2011','HDCOACH_SALARY_MEN_2012','HDCOACH_SALARY_MEN_2013','HDCOACH_SALARY_MEN_2014','HDCOACH_SALARY_MEN_2015','HDCOACH_SALARY_MEN_2016','HDCOACH_SALARY_MEN_2017']].rename(columns={'HDCOACH_SALARY_MEN_2010':'2010','HDCOACH_SALARY_MEN_2011':'2011','HDCOACH_SALARY_MEN_2012':'2012','HDCOACH_SALARY_MEN_2013':'2013','HDCOACH_SALARY_MEN_2014':'2014','HDCOACH_SALARY_MEN_2015':'2015','HDCOACH_SALARY_MEN_2016':'2016','HDCOACH_SALARY_MEN_2017':'2017'}).copy()\n",
    "#topSchool_Coach_df"
   ]
  },
  {
   "cell_type": "code",
   "execution_count": null,
   "metadata": {},
   "outputs": [],
   "source": [
    "topSchool_Revenue_df = topSchool_df[['REV_MEN_Bskball_2010','REV_MEN_Bskball_2011','REV_MEN_Bskball_2012','REV_MEN_Bskball_2013','REV_MEN_Bskball_2014','REV_MEN_Bskball_2015','REV_MEN_Bskball_2016','REV_MEN_Bskball_2017']].rename(columns={'REV_MEN_Bskball_2010':'2010','REV_MEN_Bskball_2011':'2011','REV_MEN_Bskball_2012':'2012','REV_MEN_Bskball_2013':'2013','REV_MEN_Bskball_2014':'2014','REV_MEN_Bskball_2015':'2015','REV_MEN_Bskball_2016':'2016','REV_MEN_Bskball_2017':'2017'}).copy()\n",
    "#topSchool_Revenue_df.reset_index()\n",
    "#topSchool_Revenue_df"
   ]
  },
  {
   "cell_type": "code",
   "execution_count": null,
   "metadata": {},
   "outputs": [],
   "source": [
    "topSchool_Revenue_df = topSchool_Revenue_df.T\n",
    "#topSchool_Revenue_df"
   ]
  },
  {
   "cell_type": "code",
   "execution_count": null,
   "metadata": {},
   "outputs": [],
   "source": [
    "topSchool_Expense_df = topSchool_df[['EXP_MEN_Bskball_2010','EXP_MEN_Bskball_2011','EXP_MEN_Bskball_2012','EXP_MEN_Bskball_2013','EXP_MEN_Bskball_2014','EXP_MEN_Bskball_2015','EXP_MEN_Bskball_2016','EXP_MEN_Bskball_2017']].rename(columns={'EXP_MEN_Bskball_2010':'2010','EXP_MEN_Bskball_2011':'2011','EXP_MEN_Bskball_2012':'2012','EXP_MEN_Bskball_2013':'2013','EXP_MEN_Bskball_2014':'2014','EXP_MEN_Bskball_2015':'2015','EXP_MEN_Bskball_2016':'2016','EXP_MEN_Bskball_2017':'2017'}).copy()\n",
    "#topSchool_Expense_df.reset_index()\n",
    "#topSchool_Expense_df"
   ]
  },
  {
   "cell_type": "code",
   "execution_count": null,
   "metadata": {},
   "outputs": [],
   "source": [
    "topSchool_Coach_df = topSchool_Coach_df.T\n",
    "#topSchool_Coach_df"
   ]
  },
  {
   "cell_type": "code",
   "execution_count": null,
   "metadata": {},
   "outputs": [],
   "source": [
    "x_axis = topSchool_Coach_df.index\n",
    "\n",
    "plt.plot(x_axis, topSchool_Coach_df)\n",
    "plt.title(\"University of Kentucky \\n Head Coach Salary 2010-2017\")\n",
    "plt.ylabel(\"Salary (thousands)\")\n",
    "plt.xlabel(\"Years\")\n",
    "\n",
    "plt.grid()\n",
    "plt.legend().set_visible(False)\n",
    "figCoach = plt.gcf()\n",
    "plt.show()"
   ]
  },
  {
   "cell_type": "code",
   "execution_count": null,
   "metadata": {},
   "outputs": [],
   "source": [
    "figCoach.savefig('images/Kentucky_Coach_Salary.png', dpi=100, bbox_inches=\"tight\")"
   ]
  },
  {
   "cell_type": "code",
   "execution_count": null,
   "metadata": {},
   "outputs": [],
   "source": [
    "x_axis2 = topSchool_Revenue_df.index\n",
    "\n",
    "plt.plot(x_axis2, topSchool_Revenue_df)\n",
    "plt.title(\"University of Kentucky \\n Revenue 2010-2017\")\n",
    "plt.ylabel(\"Revenue (millions)\")\n",
    "plt.xlabel(\"Years\")\n",
    "plt.ticklabel_format(style='sci', scilimits=(0, 17000000), axis='y')\n",
    "plt.grid()\n",
    "plt.legend().set_visible(False)\n",
    "figRevenue = plt.gcf()\n",
    "plt.show()"
   ]
  },
  {
   "cell_type": "code",
   "execution_count": null,
   "metadata": {},
   "outputs": [],
   "source": [
    "figRevenue.savefig('images/Kentucky_Revenue.png', dpi=100, bbox_inches=\"tight\")"
   ]
  },
  {
   "cell_type": "code",
   "execution_count": null,
   "metadata": {},
   "outputs": [],
   "source": [
    "people = top25_df['institution_name']\n",
    "top25_df.plot.barh(stacked=True,alpha=0.5)\n",
    "plt.title(\"Top 25 Colleges By Expense \\n Expense Comparison 2010-2017\")\n",
    "plt.ylabel(\"College\")\n",
    "plt.xlabel(\"Costs (tens millions)\")\n",
    "\n",
    "#plt.xticks([])\n",
    "plt.yticks([])\n",
    "comparison = plt.gcf()\n",
    "plt.show()"
   ]
  },
  {
   "cell_type": "code",
   "execution_count": null,
   "metadata": {},
   "outputs": [],
   "source": [
    "comparison.savefig('images/top25comparison.png', dpi=100, bbox_inches=\"tight\")"
   ]
  },
  {
   "cell_type": "code",
   "execution_count": null,
   "metadata": {},
   "outputs": [],
   "source": [
    "studentAid_df = budget_data_merged_total_summed[['Total_StudentAid','Total_Expense']].copy()\n",
    "studentAid_df = studentAid_df.sort_values(by='Total_Expense', ascending=False)\n",
    "studentAid_df = studentAid_df.reset_index(drop=True).head(25)\n",
    "studentAid_df = studentAid_df.rename(columns={'Total_StudentAid':'Total Student Aid','Total_Expense':'Total Expense'})\n",
    "#studentAid_df.head()"
   ]
  },
  {
   "cell_type": "code",
   "execution_count": null,
   "metadata": {},
   "outputs": [],
   "source": [
    "# plot\n",
    "plot = studentAid_df.plot.area(alpha=0.5)\n",
    "figAll = plot.get_figure()\n",
    "plt.title(\"Colleges Total \\n Student Aid and Expense 2010-2017\")\n",
    "plt.xlabel(\"Top 25 Colleges\")\n",
    "plt.ylabel(\"Student Aid and Expense (millions)\")\n",
    "plt.xticks(range(len(studentAid_df.index + 1)),studentAid_df.index + 1)\n",
    "plt.ticklabel_format(style='sci', scilimits=(0, 18000000), axis='y')\n",
    "#plt.ylim(0, 5.5)\n",
    "plt.xlim(-.25, 24.25)\n",
    "studentAid = plt.gcf()"
   ]
  },
  {
   "cell_type": "code",
   "execution_count": null,
   "metadata": {},
   "outputs": [],
   "source": [
    "studentAid.savefig('images/top25StudentAid.png', dpi=100, bbox_inches=\"tight\")"
   ]
  },
  {
   "cell_type": "code",
   "execution_count": null,
   "metadata": {},
   "outputs": [],
   "source": [
    "coachSalary_df = budget_data_merged_total_summed[['institution_name','Total_HeadCoachSalary','Total_Expense']].copy()\n",
    "coachSalary_df = coachSalary_df.sort_values(by='Total_Expense', ascending=False)\n",
    "coachSalary_df = coachSalary_df.reset_index(drop=True).head(25)\n",
    "#coachSalary_df.head()"
   ]
  },
  {
   "cell_type": "code",
   "execution_count": null,
   "metadata": {},
   "outputs": [],
   "source": [
    "y_pos = np.arange(len(coachSalary_df['institution_name']))\n",
    "salary = coachSalary_df['Total_HeadCoachSalary']\n",
    "expense = coachSalary_df['Total_Expense']\n",
    "\n",
    "coachSalary_df.plot.barh(stacked=True,alpha=0.5)\n",
    "\n",
    "#plt.barh(y_pos,salary, color=\"red\", stacked=True)\n",
    "#plt.barh(y_pos,expense, color=\"blue\", stacked=True)\n",
    "plt.show()"
   ]
  },
  {
   "cell_type": "code",
   "execution_count": null,
   "metadata": {},
   "outputs": [],
   "source": [
    "# plot\n",
    "plot = coachSalary_df.plot.area(alpha=0.5)\n",
    "figAll = plot.get_figure()\n",
    "plt.title(\"Colleges Total \\n Headcoach Salary and Expense 2010-2017\")\n",
    "plt.xlabel(\"Data from Top 25 Colleges\")\n",
    "plt.ylabel(\"Coach Salary and Expense (millions)\")\n",
    "plt.xticks(range(len(coachSalary_df.index + 1)),coachSalary_df.index + 1)\n",
    "#plt.ylim(0, 5.5)\n",
    "plt.xlim(-.25, 24.25)"
   ]
  },
  {
   "cell_type": "code",
   "execution_count": null,
   "metadata": {},
   "outputs": [],
   "source": [
    "revenue_df = budget_data_merged_total_summed[['institution_name','Total_Revenue','Total_Expense']].copy()\n",
    "revenue_df = revenue_df.sort_values(by='Total_Expense', ascending=False)\n",
    "revenue_df = revenue_df.reset_index(drop=True).head(25)\n",
    "#revenue_df.head()"
   ]
  },
  {
   "cell_type": "code",
   "execution_count": null,
   "metadata": {},
   "outputs": [],
   "source": [
    "revenue_df_noInst = revenue_df[['Total_Expense','Total_Revenue']].copy()\n",
    "#revenue_df_noInst.head()"
   ]
  },
  {
   "cell_type": "code",
   "execution_count": null,
   "metadata": {},
   "outputs": [],
   "source": [
    "# plot\n",
    "plot = revenue_df_noInst.plot.area(alpha=0.5)\n",
    "figexpense = plot.get_figure()\n",
    "plt.title(\"Colleges Total \\n Expenses and Revenues 2010-2017\")\n",
    "plt.xlabel(\"Data from Top 25 Colleges\")\n",
    "plt.ylabel(\"Expenses and Revenues (millions)\")\n",
    "plt.xticks(range(len(revenue_df_noInst.index + 2)),revenue_df_noInst.index + 1)\n",
    "#plt.ylim(0, 5.5)\n",
    "plt.xlim(-.25, 24.25)"
   ]
  },
  {
   "cell_type": "code",
   "execution_count": null,
   "metadata": {},
   "outputs": [],
   "source": [
    "revenue_df_noInst.plot.barh(alpha=0.5, stacked=True)"
   ]
  },
  {
   "cell_type": "code",
   "execution_count": null,
   "metadata": {},
   "outputs": [],
   "source": [
    "#Gather variables\n",
    "#Number of unique colleges\n",
    "unique_college = player_data_df['college'].nunique()\n",
    "\n",
    "#Group colleges to count players\n",
    "playerGrouped = player_data_df.groupby('college').count()\n",
    "countByCollege = player_data_df.groupby(['college'], as_index=False).agg({'name':'count'}).rename(columns={'name':'count'})\n",
    "\n",
    "#singleCollege = countByCollege.groupby('count').size()\n",
    "singleCollege = countByCollege.loc[countByCollege['count'] == 1]\n",
    "singleCollege_sum = singleCollege['college'].count()\n",
    "\n",
    "#College Mode\n",
    "modeCollege_df = countByCollege['count'].sort_values(ascending=False)\n",
    "modeCollege_df = modeCollege_df.reset_index(drop=True)\n",
    "modeCollege = modeCollege_df.mode()\n",
    "modeCollege = modeCollege.iloc[0]\n",
    "modeCollege\n",
    "\n",
    "#Earliest start year\n",
    "minStartyear = player_data_df['year_start'].min()\n",
    "\n",
    "#Latest start year\n",
    "latestStartyear = player_data_df['year_start'].max()\n",
    "\n",
    "#Number of unique players\n",
    "unique_player = player_data_df['name'].nunique()\n",
    "\n",
    "#Copy player dataframe\n",
    "playerYears_df = player_data_df[['year_start','birth_date']].copy()\n",
    "\n",
    "#Birth year\n",
    "playerYears_df['birth_date'] = pd.to_datetime(playerYears_df['birth_date']).dt.year\n",
    "\n",
    "playerYears_df.head()\n",
    "playerYears_df['entryAge'] = playerYears_df['year_start'] - playerYears_df['birth_date']\n",
    "\n",
    "averageStartage = playerYears_df['entryAge'].mean()\n",
    "averageStartage = np.round(averageStartage, decimals=2)\n",
    "\n",
    "#ageYeargroup = playerYears_df.groupby('year_start')\n",
    "ageYeargroup = playerYears_df.groupby(['year_start'], as_index=False).agg({'entryAge':'mean'}).rename(columns={'entryAge':'AverAge'})\n",
    "\n",
    "firstYearAverageAge = ageYeargroup.iloc[0]['AverAge']\n",
    "firstYearAverageAge = np.round(firstYearAverageAge, decimals=2)\n",
    "\n",
    "currentYearAverageAge = ageYeargroup.iloc[-1]['AverAge']\n",
    "currentYearAverageAge = np.round(currentYearAverageAge, decimals=2)\n",
    "\n",
    "maxExpense = revenue_df_noInst['Total_Expense'].max()\n",
    "minExpense = revenue_df_noInst['Total_Expense'].min()\n",
    "#print(f\"The max expense is {maxExpense} and the min is {minExpense}\")"
   ]
  },
  {
   "cell_type": "code",
   "execution_count": null,
   "metadata": {},
   "outputs": [],
   "source": [
    "year_strt = ageYeargroup['year_start']\n",
    "AverAge = ageYeargroup['AverAge']\n",
    "plt.title(\"Average Entry Age by Year\")\n",
    "plt.xlabel(\"Year\")\n",
    "plt.ylabel(\"Age\")\n",
    "plt.grid()\n",
    "plt.plot(year_strt, AverAge)\n",
    "age = plt.gcf()\n",
    "plt.show()"
   ]
  },
  {
   "cell_type": "code",
   "execution_count": null,
   "metadata": {},
   "outputs": [],
   "source": [
    "#plt.show()\n",
    "#plt.draw()\n",
    "age.savefig('images/average_age.png', dpi=100)\n",
    "#plt.savefig('average_age.png', dpi=100)"
   ]
  },
  {
   "cell_type": "code",
   "execution_count": null,
   "metadata": {},
   "outputs": [],
   "source": [
    "playerGrouped = player_data_df.groupby('college').count()\n",
    "countByCollege = player_data_df.groupby(['college'], as_index=False).agg({'name':'count'}).rename(columns={'name':'count'})\n",
    "#countByCollege.head()"
   ]
  },
  {
   "cell_type": "code",
   "execution_count": null,
   "metadata": {},
   "outputs": [],
   "source": [
    "top25colleges = countByCollege.sort_values(by = 'count', ascending=False).head(25)\n",
    "top25colleges = top25colleges.reset_index(drop=True)\n",
    "#top25colleges.head()"
   ]
  },
  {
   "cell_type": "code",
   "execution_count": null,
   "metadata": {},
   "outputs": [],
   "source": [
    "bar25colleges = top25colleges['college']\n",
    "bar25count = top25colleges['count']\n",
    "width = [5, 10, 15, 20, 25, 30, 35, 40, 45, 50, 55, 60, 65, 70, 75, 80, 85, 90, 95, 100, 105, 110, 115, 120, 125]\n",
    "\n",
    "plt.title(\"Top 25 Colleges\")\n",
    "plt.xlabel(\"Colleges\")\n",
    "plt.ylabel(\"Number of Players\")\n",
    "plt.xticks(rotation=90)\n",
    "top25colleges['college']\n",
    "\n",
    "fig2 = plt.gcf()\n",
    "plt.xticks(width, bar25colleges)\n",
    "plt.bar(width, bar25count, color='lightblue', alpha=0.5, align=\"center\", width=3)"
   ]
  },
  {
   "cell_type": "code",
   "execution_count": null,
   "metadata": {},
   "outputs": [],
   "source": [
    "#fig2.savefig('top25colleges.png', dpi=100)"
   ]
  },
  {
   "cell_type": "code",
   "execution_count": null,
   "metadata": {},
   "outputs": [],
   "source": [
    "#top25colleges\n",
    "#truncatedBudget_df\n",
    "top25_budget_merged = pd.merge(top25colleges, truncatedBudget_df, how=\"left\", left_on=\"college\", right_on=\"institution_name\")\n",
    "\n",
    "top25_budget_merged = top25_budget_merged[['institution_name', 'Total_Expense','Total_Revenue']].rename(columns={'Total_Expense':'Total Expense','Total_Revenue':'Total Revenue'}).copy()\n",
    "#top25_budget_merged.set_index('institution_name', inplace=True)\n",
    "top25_budget_merged.head()"
   ]
  },
  {
   "cell_type": "code",
   "execution_count": null,
   "metadata": {},
   "outputs": [],
   "source": [
    "#top25_budget_merged.dtypes"
   ]
  },
  {
   "cell_type": "code",
   "execution_count": null,
   "metadata": {},
   "outputs": [],
   "source": [
    "#top25_budget_merged.to_csv(\"top25_budget_merged.csv\")"
   ]
  },
  {
   "cell_type": "code",
   "execution_count": null,
   "metadata": {},
   "outputs": [],
   "source": [
    "top25_budget_merged_round = top25_budget_merged['Total Expense'] / 1000\n",
    "#top25_budget_merged_round"
   ]
  },
  {
   "cell_type": "code",
   "execution_count": null,
   "metadata": {},
   "outputs": [],
   "source": [
    "# plot\n",
    "#pd.options.display.float_format = '{:.,}'.format\n",
    "plot = top25_budget_merged.plot.area(alpha=0.5)\n",
    "figexpense = plot.get_figure()\n",
    "plt.title(\"Top 25 Colleges Total \\n Expense and Revenues 2010-2017\")\n",
    "plt.xlabel(\"Data from Top 25 Colleges\")\n",
    "plt.ylabel(\"Expense and Revenues (millions)\")\n",
    "plt.xticks(range(len(top25_budget_merged.index + 1)),top25_budget_merged.index + 1)\n",
    "plt.ticklabel_format(style='sci', scilimits=(0, 300000000), axis='y')\n",
    "#plt.ticklabel_format(useOffset=False, axis='y')\n",
    "#plt.ylim(0, 5*1e8)\n",
    "plt.xlim(-.25, 24.25)\n",
    "areaExpense = plt.gcf()"
   ]
  },
  {
   "cell_type": "code",
   "execution_count": null,
   "metadata": {},
   "outputs": [],
   "source": [
    "areaExpense.savefig('images/top25areaExpense.png', dpi=100, bbox_inches=\"tight\")"
   ]
  },
  {
   "cell_type": "code",
   "execution_count": null,
   "metadata": {},
   "outputs": [],
   "source": [
    "top25colleges[\"Lat\"] = \"\"\n",
    "top25colleges[\"Lng\"] = \"\"\n",
    "#top25colleges"
   ]
  },
  {
   "cell_type": "code",
   "execution_count": null,
   "metadata": {},
   "outputs": [],
   "source": [
    "# create a params dict that will be updated with new city each iteration\n",
    "params2 = {\"key\": gkey}\n",
    "\n",
    "# Loop through the cities_pd and run a lat/long search for each city\n",
    "for index, row in top25colleges.iterrows():\n",
    "    base_url = \"https://maps.googleapis.com/maps/api/geocode/json\"\n",
    "\n",
    "    city = row['college']\n",
    "\n",
    "    # update address key value\n",
    "    params2['address'] = city\n",
    "\n",
    "    # make request\n",
    "    cities_lat_lng = requests.get(base_url, params=params2)\n",
    "    \n",
    "    # print the cities_lat_lng url, avoid doing for public github repos in order to avoid exposing key\n",
    "    # print(cities_lat_lng.url)\n",
    "    \n",
    "    # convert to json\n",
    "    cities_lat_lng = cities_lat_lng.json()\n",
    "\n",
    "    top25colleges.loc[index, \"Lat\"] = cities_lat_lng[\"results\"][0][\"geometry\"][\"location\"][\"lat\"]\n",
    "    top25colleges.loc[index, \"Lng\"] = cities_lat_lng[\"results\"][0][\"geometry\"][\"location\"][\"lng\"]\n",
    "\n",
    "# Visualize to confirm lat lng appear\n",
    "top25colleges.head()"
   ]
  },
  {
   "cell_type": "code",
   "execution_count": null,
   "metadata": {},
   "outputs": [],
   "source": [
    "#top25colleges.to_csv(\"output-latlong-25.csv\")"
   ]
  },
  {
   "cell_type": "code",
   "execution_count": null,
   "metadata": {},
   "outputs": [],
   "source": [
    "# Store latitude and longitude in locations\n",
    "locations = top25colleges[[\"Lat\", \"Lng\"]]\n",
    "\n",
    "# Fill NaN values and convert to float\n",
    "count = top25colleges[\"count\"].astype(float)"
   ]
  },
  {
   "cell_type": "code",
   "execution_count": null,
   "metadata": {
    "scrolled": true
   },
   "outputs": [],
   "source": [
    "# Plot Heatmap\n",
    "fig = gmaps.figure()\n",
    "\n",
    "# Create heat layer\n",
    "heat_layer = gmaps.heatmap_layer(locations, weights=count, \n",
    "                                 dissipating=False, max_intensity=100,\n",
    "                                 point_radius=1)\n",
    "\n",
    "\n",
    "# Add layer\n",
    "fig.add_layer(heat_layer)\n",
    "\n",
    "# Display figure\n",
    "fig"
   ]
  },
  {
   "cell_type": "code",
   "execution_count": null,
   "metadata": {},
   "outputs": [],
   "source": [
    "print(\"The data consisted of two .csvs: one that had player data and one that had seasons.\")\n",
    "print(f\"The player data had {unique_player} players that came from {unique_college} unique colleges. The NBA start years ranged from {minStartyear} to {latestStartyear}. The average age of the players entering the NBA over that time is {averageStartage}, though the average age has come down from {firstYearAverageAge} to {currentYearAverageAge} this year. One tidbit: the mode of the player count by college is {modeCollege}, which makes sense because {singleCollege_sum} of the colleges only sent one player to the NBA! \")"
   ]
  },
  {
   "cell_type": "code",
   "execution_count": null,
   "metadata": {},
   "outputs": [],
   "source": [
    "players = pd.read_csv('player_data.csv')\n",
    "seasons = pd.read_csv('Seasons_stats.csv')\n",
    "p = players.groupby('college').count()\n",
    "playerByCollege = p.sort_values(by = 'name', ascending=False)\n",
    "top20 = playerByCollege['name'].head(20)"
   ]
  },
  {
   "cell_type": "code",
   "execution_count": null,
   "metadata": {},
   "outputs": [],
   "source": [
    "y_pos = np.arange(20)\n",
    "plt.xticks(y_pos, top20.index)\n",
    "plt.xlabel('School')\n",
    "plt.ylabel('Number of Players')\n",
    "plt.title('Top 20 Schools by Number of NBA Players Drafted')\n",
    "plt.bar(y_pos, top20, align='center', alpha=0.5,\n",
    "        color = ['blue',\n",
    "                 'gold',\n",
    "                 'royalblue',\n",
    "                 'mediumblue',\n",
    "                 'crimson',\n",
    "                 'gold',\n",
    "                 'red',\n",
    "                 'darkred',\n",
    "                 'navy',\n",
    "                 'yellow',\n",
    "                 'forestgreen',\n",
    "                 'grey',\n",
    "                 'crimson',\n",
    "                 'slategrey',\n",
    "                 'orange',\n",
    "                 'maroon',\n",
    "                 'black',\n",
    "                 'purple'])\n",
    "plt.xticks(rotation=90)\n",
    "plt.savefig('images/Top 20 Schools by Number of NBA Players Drafted', dpi = 100, bbox_inches='tight')\n",
    "plt.show()\n",
    "\n",
    "\n",
    "ax = plt.subplot(235, frame_on=False) # no visible frame\n",
    "ax.xaxis.set_visible(False)  # hide the x axis\n",
    "ax.yaxis.set_visible(False)  # hide the y axis\n",
    "\n",
    "table(ax, top20)  # where df is your data frame\n",
    "\n",
    "plt.savefig('images/top20school.png', dpi = 100, bbox_inches='tight')\n",
    "top20.head()"
   ]
  },
  {
   "cell_type": "code",
   "execution_count": null,
   "metadata": {},
   "outputs": [],
   "source": [
    "p = players.groupby('year_start').mean()\n",
    "weightByYear = p['weight']\n",
    "plt.plot(weightByYear.index, weightByYear)\n",
    "plt.grid()\n",
    "plt.xlabel('Year')\n",
    "plt.ylabel('Weight in Pounds')\n",
    "plt.title('Average Player Weight by the Year They were Drafted')\n",
    "plt.savefig('images/Average Player Weight by the Year They were Drafted', dpi = 100, bbox_inches='tight')"
   ]
  },
  {
   "cell_type": "code",
   "execution_count": null,
   "metadata": {},
   "outputs": [],
   "source": [
    "s =seasons.groupby(['Player', 'Year']).mean()\n",
    "\n",
    "players[[\"feet\",\"inches\"]]=players[\"height\"].str.split('-',expand=True)\n",
    "players[\"feet\"] = pd.to_numeric(players[\"feet\"])\n",
    "players[\"inches\"] = pd.to_numeric(players[\"inches\"])\n",
    "players['feet'] = players['feet']*12\n",
    "players[\"total_height\"] = players[\"feet\"] + players[\"inches\"]\n",
    "\n",
    "\n",
    "ps = seasons.join(players.set_index('name'), on='Player')"
   ]
  },
  {
   "cell_type": "code",
   "execution_count": null,
   "metadata": {},
   "outputs": [],
   "source": [
    "s =seasons.groupby('Year').mean()\n",
    "ps = seasons.join(players.set_index('name'), on='Player')\n",
    "\n",
    "psTall = ps.loc[ps['total_height'] >= 81].groupby('Year').mean()\n",
    "\n",
    "threeA = s['3PA']\n",
    "threeM = s['3P']\n",
    "threeP = s['3P%']\n",
    "\n",
    "threeAtall = psTall['3PA']\n",
    "threeMtall = psTall['3P']\n",
    "threePtall = psTall['3P%']\n",
    "\n",
    "plt.plot(threeA.index, threeA)\n",
    "plt.plot(threeM.index, threeM)\n",
    "\n",
    "plt.grid()\n",
    "plt.legend()\n",
    "\n",
    "plt.title('3 Point Shots Attempted and Made by the Year')\n",
    "plt.xlabel('Year')\n",
    "plt.ylabel('Shots')\n",
    "\n",
    "plt.savefig('images/3 Point Shots Attempted and Made by the Year', dpi = 100, bbox_inches='tight')"
   ]
  },
  {
   "cell_type": "code",
   "execution_count": null,
   "metadata": {},
   "outputs": [],
   "source": [
    "p = players.groupby('year_start').mean()\n",
    "heightByYear = p['total_height']\n",
    "\n",
    "short = players.sort_values(by = 'total_height', ascending = True).head(5)\n",
    "tall = players.sort_values(by = 'total_height', ascending = False).head(5)\n",
    "\n",
    "\n",
    "\n",
    "plt.grid()\n",
    "plt.title('Average Player Height by the Year They were Drafted')\n",
    "plt.xlabel('Year')\n",
    "plt.ylabel('Height in Inches')\n",
    "\n",
    "plt.plot(heightByYear.index,heightByYear)\n",
    "\n",
    "plt.savefig('images/Average Player Height by the Year They were Drafted', dpi = 100, bbox_inches='tight')"
   ]
  },
  {
   "cell_type": "code",
   "execution_count": null,
   "metadata": {},
   "outputs": [],
   "source": [
    "s = seasons.loc[seasons['MP'] >= 500,:]\n",
    "\n",
    "s = s.groupby(by =['Player','Year']).mean()\n",
    "s = s[['PER', '3P', 'MP','eFG%']]\n",
    "playersByPER = s.sort_values(by = 'PER', ascending=False)\n",
    "bestSeasons = playersByPER['PER'].head(20)\n",
    "\n",
    "years = bestSeasons.index.get_level_values('Year')\n",
    "players = bestSeasons.index.get_level_values('Player')\n",
    "\n",
    "plt.title('Top 20 Individual Player Seasons by PER')\n",
    "plt.ylabel('PER')\n",
    "plt.xlabel('Year of Season')\n",
    "plt.xlim(1960,2028)\n",
    "plt.text(x=2025,y= 29.8,\n",
    "         s='Minimum 500 minutes played\\n*=Player in HOF')\n",
    "\n",
    "leg_elts = [Patch(facecolor='royalblue', edgecolor='black',\n",
    "                         label='Warriors'),\n",
    "           Patch(facecolor='red', edgecolor='black',\n",
    "                         label='Bulls'),\n",
    "           Patch(facecolor='yellow', edgecolor='black',\n",
    "                         label='Lakers'),\n",
    "           Patch(facecolor='maroon', edgecolor='black',\n",
    "                         label='Cavaliers'),\n",
    "           Patch(facecolor='black', edgecolor='black',\n",
    "                         label='Heat'),\n",
    "           Patch(facecolor='navy', edgecolor='black',\n",
    "                         label='Pelicans'),\n",
    "           Patch(facecolor='white', edgecolor='black',\n",
    "                         label='Magic'),\n",
    "           Patch(facecolor='dimgrey', edgecolor='black',\n",
    "                         label='Spurs')]\n",
    "plt.legend(handles = leg_elts)\n",
    "\n",
    "\n",
    "plt.scatter(years, bestSeasons, marker = 'o',\n",
    "            facecolors= ['royalblue',\n",
    "                'red',\n",
    "                'maroon',\n",
    "                'royalblue',\n",
    "                'black',\n",
    "                'red',\n",
    "                'royalblue',\n",
    "                'royalblue',\n",
    "                'red',\n",
    "                'red',\n",
    "                'black',\n",
    "                'navy',\n",
    "                'black',\n",
    "                'dimgrey',\n",
    "                'darkorange',\n",
    "                'yellow',\n",
    "                'yellow',\n",
    "                'black',\n",
    "                'white',\n",
    "                'yellow'], edgecolors=\"black\",\n",
    "            s=bestSeasons*10, alpha=0.75)\n",
    "\n",
    "\n",
    "for i,type in enumerate(players):\n",
    "    #removes one of the Shaquille O'Neal labels\n",
    "    if i != 15:\n",
    "        x = years[i]\n",
    "        y = bestSeasons[i]\n",
    "        plt.text(x+0.04, y-0.03, type, fontsize=9)\n",
    "\n",
    "top20fig = plt.gcf()\n",
    "plt.show()\n",
    "\n",
    "top20fig.savefig('images/Top 20 Individual Player Seasons by PER', dpi = 100, bbox_inches='tight')"
   ]
  },
  {
   "cell_type": "code",
   "execution_count": null,
   "metadata": {},
   "outputs": [],
   "source": [
    "ax = plt.subplot(235, frame_on=False) # no visible frame\n",
    "ax.xaxis.set_visible(False)  # hide the x axis\n",
    "ax.yaxis.set_visible(False)  # hide the y axis\n",
    "\n",
    "table(ax, bestSeasons)  # where df is your data frame\n",
    "\n",
    "plt.savefig('images/PERtable.png', dpi = 100, bbox_inches='tight')\n",
    "plt.show()"
   ]
  },
  {
   "cell_type": "code",
   "execution_count": null,
   "metadata": {},
   "outputs": [],
   "source": [
    "#1. The mean duration of players in NBA for each school is in proportion to the total number of players in NBA for that school. \n",
    "#I am thinking to these findings on Gmap for each school.  \n",
    "#Also I plot a scatter bubble chart, The bubble represents the mean duration of players in NBA for each school.\n",
    "\n"
   ]
  },
  {
   "cell_type": "code",
   "execution_count": null,
   "metadata": {},
   "outputs": [],
   "source": [
    "# Working steps:\n",
    "#1. Pull in player data to get their mean duration in NBA for each school. \n",
    "#2. Using the same dataset, I will group the data by school and get the total number of players for each school.\n",
    "#3. Plot the total number of players vs the mean duration of players for each school in Gmap\n",
    "#4. Plot the scatter plot and add a trend line for each school to see there are any trends."
   ]
  },
  {
   "cell_type": "code",
   "execution_count": null,
   "metadata": {},
   "outputs": [],
   "source": [
    "player_dataCsv = 'player_data_new.csv'\n",
    "player_data_DF = pd.read_csv(player_dataCsv)\n",
    "\n",
    "player_data_DF['duration'] = player_data_DF['year_end'] - player_data_DF['year_start'] \n",
    "player_data_DF.head()\n",
    "\n",
    "player_data_DF_clean = player_data_DF[['college','name', 'duration']]\n",
    "player_data_DF_gp = player_data_DF_clean.groupby('college')\n",
    "player_data_summary = player_data_DF_gp[['duration']].mean()\n",
    "player_data_summary = player_data_summary[player_data_summary['duration']> 0].reset_index().sort_values('college')\n",
    "player_data_summary.head()"
   ]
  },
  {
   "cell_type": "code",
   "execution_count": null,
   "metadata": {},
   "outputs": [],
   "source": [
    "College_numberOfPlayer = player_data_DF_clean.groupby('college')[['name']].count().reset_index()\n",
    "College_numberOfPlayer.head()"
   ]
  },
  {
   "cell_type": "code",
   "execution_count": null,
   "metadata": {},
   "outputs": [],
   "source": [
    "merge_player_college = pd.merge(player_data_summary, College_numberOfPlayer, how='inner',  on='college')\n",
    "\n",
    "merge_player_college = merge_player_college.rename(columns={'name':'count of player'})\n",
    "countOfPlayerlist = list(merge_player_college['count of player'])\n",
    "durationList = list(merge_player_college['duration'])\n",
    "\n",
    "#Plotting\n",
    "plt.figure(figsize=(18,14))\n",
    "plt.scatter(countOfPlayerlist, durationList, marker=\"o\", s=100, facecolors=\"purple\", edgecolors=\"black\", alpha=0.60)\n",
    "plt.xlabel('Number of Player in NBA',fontsize='18')\n",
    "\n",
    "plt.ylabel('Duration in NBA', fontsize='18')\n",
    "plt.title('Number of Player per college in NBA vs Mean Duration Stay in NBA', fontsize='24')\n",
    "plt.grid()\n",
    "plt.savefig(\"Player_count_vs_avg_stay_in_NBA.png\")\n",
    "plt.show()\n"
   ]
  },
  {
   "cell_type": "code",
   "execution_count": null,
   "metadata": {},
   "outputs": [],
   "source": [
    "# Need gkey to run this code\n",
    "\n",
    "merge_player_college['lat'] = \"\"\n",
    "merge_player_college['lng'] = \"\"\n",
    "\n",
    "target_type = \"university\"\n",
    "\n",
    "# set up a parameters dictionary\n",
    "params3 = {\n",
    "    \"key\": gkey,\n",
    "    \"type\": target_type\n",
    "    }\n",
    "\n",
    "\n",
    "\n",
    "target_url= \"https://maps.googleapis.com/maps/api/geocode/json\"\n",
    "\n",
    "for index, row in merge_player_college.iterrows():\n",
    "    \n",
    "    college=row['college']\n",
    "    params3['address'] = college\n",
    "        \n",
    "    geo_data = requests.get(target_url, params= params3).json()\n",
    "    merge_player_college.loc[index, 'lat'] = geo_data[\"results\"][0][\"geometry\"][\"location\"][\"lat\"]\n",
    "    merge_player_college.loc[index, 'lng'] = geo_data[\"results\"][0][\"geometry\"][\"location\"][\"lng\"]\n",
    "    \n",
    "merge_player_college.head()\n",
    "\n"
   ]
  },
  {
   "cell_type": "code",
   "execution_count": null,
   "metadata": {},
   "outputs": [],
   "source": [
    "# Store latitude and longitude in locations\n",
    "locations = merge_player_college[['lat','lng']]\n",
    "\n",
    "duration = merge_player_college['duration'].astype(float)\n",
    "\n",
    "\n",
    "\n",
    "# Plot Heatmap\n",
    "\n",
    "fig = gmaps.figure()\n",
    "\n",
    "heat_layer = gmaps.heatmap_layer(locations, weights = duration, dissipating=False, max_intensity=8, point_radius=.75)\n",
    "fig.add_layer(heat_layer)\n",
    "\n",
    "\n",
    "fig\n",
    "\n"
   ]
  },
  {
   "cell_type": "code",
   "execution_count": null,
   "metadata": {},
   "outputs": [],
   "source": [
    "Seasons_Stats_file = 'Seasons_Stats.csv'\n",
    "Seasons_Stats_DF = pd.read_csv(Seasons_Stats_file)\n",
    "Seasons_Stats_DF.head()\n",
    "\n"
   ]
  },
  {
   "cell_type": "code",
   "execution_count": null,
   "metadata": {},
   "outputs": [],
   "source": [
    "#setting up the data list for plotting\n",
    "\n",
    "PAr = Seasons_Stats_DF.groupby(['Year'])['3PAr'].mean().dropna().reset_index()['3PAr']\n",
    "list_3PAr = list(PAr)\n",
    "Year = Seasons_Stats_DF.groupby(['Year'])['3PAr'].mean().dropna().reset_index()['Year']\n",
    "listYear = list(Year)\n",
    "\n",
    "#Plotting\n",
    "plt.figure(figsize=(18,14))\n",
    "plt.scatter(listYear, list_3PAr, marker=\"o\", s=200, facecolors=\"purple\", edgecolors=\"black\", alpha=0.60)\n",
    "plt.xlabel('Year Players In', fontsize=18)\n",
    "plt.ylabel('3 Point Average', fontsize=18)\n",
    "\n",
    "plt.title('3 Point Average (1980 - 2017)', fontsize=24)\n",
    "plt.grid()\n",
    "plt.savefig('ThreePointAv_overYear1980_2017.png')\n",
    "plt.show()"
   ]
  },
  {
   "cell_type": "code",
   "execution_count": null,
   "metadata": {},
   "outputs": [],
   "source": [
    "Year_3PAvr = Seasons_Stats_DF[Seasons_Stats_DF['Year'] >= 1980][['Year','Player','3PAr']]\n",
    "df_Year_3PAvr = Year_3PAvr.groupby(['Player', 'Year'])[['3PAr']].mean()\n",
    "new_df = df_Year_3PAvr.unstack()\n",
    "\n",
    "# remove the '3PAr' level\n",
    "new_df= new_df['3PAr']\n",
    "labelobj = list(new_df.columns)\n",
    "listlabel = [np.int(x) for x in labelobj]\n",
    "x_axis = np.arange(0,len(listlabel),1)\n",
    "# rename all column name removing trailing 0\n",
    "new_df.columns= listlabel \n",
    "\n",
    "fig, ax= plt.subplots(figsize=(18,14))\n",
    "\n",
    "ax.set_xticklabels(labelobj ,rotation='vertical', fontsize=16)\n",
    "#ax.tick_params(which='minor', length=5, labelsize=10, labelcolor='0.25')\n",
    "\n",
    "ax.set_yticklabels(new_df, fontsize=16)\n",
    "ax.set_title('3 Point Average (1980 - 2017)',  fontsize=18)\n",
    "ax.set_xlabel('Year', fontsize=16)\n",
    "ax.set_ylabel('3 Point Ratio Avg per NBA Player', fontsize=16)\n",
    "#top_10.plot(ax=ax)\n",
    "#plt.figure()\n",
    "#plt.xticks(x_axis, listlabel, rotation='vertical')\n",
    "#plt.xticks( listlabel,labelobj, rotation='vertical')\n",
    "\n",
    "bp = new_df.boxplot(rot=60, ax=ax)\n",
    "plt.savefig('BoxPlot_ThreePointAv_overYear1980_2017.png')\n",
    "\n",
    "\n"
   ]
  },
  {
   "cell_type": "code",
   "execution_count": null,
   "metadata": {},
   "outputs": [],
   "source": [
    "\n",
    "#setting up the data list for plotting\n",
    "\n",
    "PAr = Seasons_Stats_DF.groupby(['Year'])['3PAr'].mean().dropna().reset_index()['3PAr']\n",
    "list_3PAr = list(PAr)\n",
    "Year = Seasons_Stats_DF.groupby(['Year'])['3PAr'].mean().dropna().reset_index()['Year']\n",
    "listYear = list(Year)\n",
    "\n",
    "#Plotting\n",
    "plt.figure(figsize=(18,14))\n",
    "plt.scatter(listYear, list_3PAr, marker=\"o\", facecolors=\"purple\", edgecolors=\"black\", alpha=0.60)\n",
    "plt.xlabel('Year Players In', fontsize = 16)\n",
    "plt.ylabel('3 Point Average', fontsize = 16)\n",
    "\n",
    "plt.title('Year vs 3 Point Average ', fontsize= 16)\n",
    "plt.grid()\n"
   ]
  },
  {
   "cell_type": "markdown",
   "metadata": {},
   "source": [
    "going to cite www.theringer.com/2016/11/7/16077036/nba-big-man-hybrids-karl-anthony-towns-myles-turner-254a304647c9"
   ]
  },
  {
   "cell_type": "code",
   "execution_count": null,
   "metadata": {},
   "outputs": [],
   "source": [
    "file = 'player_data.csv'\n",
    "filetwo = 'Seasons_Stats.csv'"
   ]
  },
  {
   "cell_type": "code",
   "execution_count": null,
   "metadata": {},
   "outputs": [],
   "source": [
    "nba_df = pd.read_csv(file)\n",
    "nbatwo_df = pd.read_csv(filetwo)\n",
    "nbatwo_df[\"Pos\"].unique()"
   ]
  },
  {
   "cell_type": "code",
   "execution_count": null,
   "metadata": {},
   "outputs": [],
   "source": [
    "nbatwo_df.columns"
   ]
  },
  {
   "cell_type": "code",
   "execution_count": null,
   "metadata": {},
   "outputs": [],
   "source": [
    "nbatwoedit_df = nbatwo_df[[\"Year\", \"Player\", \"Pos\", \"Age\", \"Tm\", \"G\", \"GS\", \"MP\", \"PER\", \"TS%\", \"3PAr\", \"FTr\", \"ORB%\", \"DRB%\", \"TRB%\",\n",
    "                           \"AST%\", \"STL%\", \"BLK%\", \"TOV%\", \"USG%\", \"OWS\", \"DWS\", \"WS\", \"WS/48\", \"OBPM\", \"DBPM\", \"BPM\", \"VORP\", \"FG\", \n",
    "                           \"FGA\", \"FG%\", \"3P\", \"3PA\", \"3P%\", \"2P\", \"2PA\", \"2P%\", \"eFG%\", \"FT\", \"FTA\", \"FT%\", \"ORB\", \"DRB\", \"TRB\", \n",
    "                           \"AST\", \"STL\", \"BLK\", \"TOV\", \"PF\", \"PTS\"]]"
   ]
  },
  {
   "cell_type": "code",
   "execution_count": null,
   "metadata": {},
   "outputs": [],
   "source": [
    "#breaking data down into positions\n",
    "only_bigmen = nbatwoedit_df.loc[(nbatwoedit_df[\"Pos\"] ==\"C\") | (nbatwoedit_df[\"Pos\"] == \"F-C\") | (nbatwoedit_df[\"Pos\"] == \"C-F\") | \n",
    "                               (nbatwoedit_df[\"Pos\"] == \"C-PF\") | (nbatwoedit_df[\"Pos\"] ==\"C-SF\") | (nbatwoedit_df[\"Pos\"] == \"PF-C\")|\n",
    "                               (nbatwoedit_df[\"Pos\"] == \"PF-SF\") | (nbatwoedit_df[\"Pos\"]==\"SF\") | (nbatwoedit_df[\"Pos\"]==\"F\")|\n",
    "                               (nbatwoedit_df[\"Pos\"] ==\"PF\") | (nbatwoedit_df[\"Pos\"]==\"SF-PF\")]\n",
    "only_shorties = nbatwoedit_df.loc[(nbatwoedit_df[\"Pos\"] ==\"SG\") | (nbatwoedit_df[\"Pos\"] == \"G\") | (nbatwoedit_df[\"Pos\"] == \"PG\") | \n",
    "                               (nbatwoedit_df[\"Pos\"] == \"SG-SF\") | (nbatwoedit_df[\"Pos\"] ==\"PG-SF\") | (nbatwoedit_df[\"Pos\"] == \"SG-PG\")|\n",
    "                               (nbatwoedit_df[\"Pos\"] == \"G-F\") | (nbatwoedit_df[\"Pos\"]==\"F-G\") | (nbatwoedit_df[\"Pos\"]==\"SF-SG\")|\n",
    "                               (nbatwoedit_df[\"Pos\"]==\"SF-PG\") | (nbatwoedit_df[\"Pos\"]==\"PG-SG\") | (nbatwoedit_df[\"Pos\"]==\"SG-PF\")]\n",
    "\n",
    "                               \n"
   ]
  },
  {
   "cell_type": "code",
   "execution_count": null,
   "metadata": {},
   "outputs": [],
   "source": [
    "#only_shorties[\"Pos\"].nunique()\n",
    "#verifies that the correct amount of positions is being captured"
   ]
  },
  {
   "cell_type": "code",
   "execution_count": null,
   "metadata": {},
   "outputs": [],
   "source": [
    "#looked at the dataset and found that if a player was traded, all data was involved, both teams and total.  To fix, \n",
    "#I searched for Total and then made a new column of data for all teams but total\n",
    "#only_bigmen[\"Tm\"].unique()\n",
    "#only_shorties[\"Tm\"].unique()"
   ]
  },
  {
   "cell_type": "code",
   "execution_count": null,
   "metadata": {},
   "outputs": [],
   "source": [
    "only_bigmen = only_bigmen.loc[(only_bigmen[\"Tm\"] != \"TOT\")]\n",
    "#only_bigmen[\"Tm\"].unique()\n",
    "only_shorties = only_shorties.loc[(only_shorties[\"Tm\"] != \"TOT\")]\n",
    "#only_shorties[\"Tm\"].unique()\n",
    "#this also reduces the unique positions, which is fine since TOT was an overlapping variable"
   ]
  },
  {
   "cell_type": "code",
   "execution_count": null,
   "metadata": {},
   "outputs": [],
   "source": [
    "#only_shorties[\"Pos\"].nunique()\n",
    "#only_bigmen[\"Pos\"].unique()\n",
    "#this verifies that unique positions are captured"
   ]
  },
  {
   "cell_type": "code",
   "execution_count": null,
   "metadata": {},
   "outputs": [],
   "source": [
    "bigmenclean_df = only_bigmen.dropna(how=\"any\")\n",
    "shortiesclean_df= only_shorties.dropna(how=\"any\")\n",
    "#This cleans up the data frames and eliminates NAN and Zeros from data"
   ]
  },
  {
   "cell_type": "code",
   "execution_count": null,
   "metadata": {},
   "outputs": [],
   "source": [
    "#bigmenclean_df[\"Player\"].count()\n",
    "#shortiesclean_df[\"Player\"].count()\n",
    "Total_count = bigmenclean_df[\"Player\"].nunique() + shortiesclean_df[\"Player\"].nunique()\n",
    "Total_count\n",
    "#represents the total amount of unique players that are in the dataset"
   ]
  },
  {
   "cell_type": "code",
   "execution_count": null,
   "metadata": {},
   "outputs": [],
   "source": [
    "playing_year = [ \"1980-1984\", \"1985-1989\", \"1990-1994\",\"1995-1999\",\"2000-2004\",\"2005-2009\", \"2010-2014\", \"2015+\"] \n",
    "bins = [ 1979, 1984, 1989, 1994, 1999, 2004,2009,2014, 2019]\n",
    "bigmenclean_df[\"Year Group\"] = pd.cut(bigmenclean_df[\"Year\"], bins, labels = playing_year)\n",
    "shortiesclean_df[\"Year Group\"] = pd.cut(shortiesclean_df[\"Year\"], bins, labels = playing_year)\n",
    "#shortiesclean_df\n",
    "#binned the players into 5 year buckets"
   ]
  },
  {
   "cell_type": "code",
   "execution_count": null,
   "metadata": {},
   "outputs": [],
   "source": [
    "bigmenyeargroup_df = bigmenclean_df.groupby(\"Year Group\")\n",
    "shortiesyeargroup_df = shortiesclean_df.groupby(\"Year Group\")\n",
    "#shortiesyeargroup_df.count()\n",
    "#bigmenyeargroup_df.count()"
   ]
  },
  {
   "cell_type": "code",
   "execution_count": null,
   "metadata": {},
   "outputs": [],
   "source": [
    "#created different dataframe views\n",
    "bigmenmeans = bigmenyeargroup_df.mean()\n",
    "shortiesmeans = shortiesyeargroup_df.mean()\n",
    "bigmentotal = bigmenyeargroup_df.sum()\n",
    "shortiestotal = shortiesyeargroup_df.sum()"
   ]
  },
  {
   "cell_type": "code",
   "execution_count": null,
   "metadata": {},
   "outputs": [],
   "source": [
    "#created PER viewable\n",
    "shortyPER = shortiesmeans[\"PER\"]\n",
    "bigmenPER = bigmenmeans[\"PER\"]\n"
   ]
  },
  {
   "cell_type": "code",
   "execution_count": null,
   "metadata": {},
   "outputs": [],
   "source": [
    "#created points variables\n",
    "shortypts = shortiestotal[\"PTS\"]\n",
    "bigmenpts = bigmentotal[\"PTS\"]\n",
    "totalpts = shortypts + bigmenpts"
   ]
  },
  {
   "cell_type": "code",
   "execution_count": null,
   "metadata": {},
   "outputs": [],
   "source": [
    "#created various variables to measure shorties statistics\n",
    "shorty_scoring = shortiesmeans[\"PTS\"]\n",
    "shorty_graph = shorty_scoring\n",
    "shorty_age = shortiesmeans[\"Age\"]\n",
    "shorty_fgpercent = shortiesmeans[\"FG%\"]*100\n",
    "shorty_assist = shortiesmeans[\"AST\"]\n",
    "shorty_assistpercent = shortiesmeans[\"AST%\"]\n",
    "shorty_games = shortiesmeans[\"G\"]\n",
    "shorty_minutes =shortiesmeans[\"MP\"]\n",
    "shorty_twos = shortiesmeans[\"2PA\"]\n",
    "shorty_threes = shortiesmeans[\"3PA\"]\n",
    "shorty_twopercent = shortiesmeans[\"2P%\"]\n",
    "shorty_threepercent = shortiesmeans[\"3P%\"]\n",
    "shorty_blocks = shortiesmeans[\"BLK\"]\n",
    "shorty_offensivereb = shortiesmeans[\"ORB\"]"
   ]
  },
  {
   "cell_type": "code",
   "execution_count": null,
   "metadata": {},
   "outputs": [],
   "source": [
    "#created various variables to measure bigmen statistics \n",
    "bigmen_scoring = bigmenmeans[\"PTS\"]\n",
    "bigmen_graph = bigmen_scoring\n",
    "bigmen_age = bigmenmeans[\"Age\"]\n",
    "bigmen_fgpercent = bigmenmeans[\"FG%\"]*100\n",
    "bigmen_assist = bigmenmeans[\"AST\"]\n",
    "bigmen_assistpercent = bigmenmeans[\"AST%\"]\n",
    "bigmen_twopercent = bigmenmeans[\"2P%\"]\n",
    "bigmen_threepercent = bigmenmeans[\"3P%\"]\n",
    "bigmen_games = bigmenmeans[\"G\"]\n",
    "bigmen_minutes =bigmenmeans[\"MP\"]\n",
    "bigmen_twos = bigmenmeans[\"2PA\"]\n",
    "bigmen_threes = bigmenmeans[\"3PA\"]\n",
    "bigmen_blocks = bigmenmeans[\"BLK\"]\n",
    "bigmen_offensivereb = bigmenmeans[\"ORB\"]"
   ]
  },
  {
   "cell_type": "code",
   "execution_count": null,
   "metadata": {},
   "outputs": [],
   "source": [
    "#shorty_fgpercent\n",
    "#bigmen_assistpercent\n",
    "bigmen_threenew = bigmentotal[\"3PA\"]\n",
    "bigmen_twonew = bigmentotal[\"2PA\"]\n",
    "shorty_threenew = shortiestotal[\"3PA\"]\n",
    "shorty_twonew = shortiestotal[\"2PA\"]\n",
    "\n",
    "#shorty_offensivereb\n",
    "#TESTED VARIOUS VARIABLES TO MAKE SURE THEY WERE PRINTING PROPERLY"
   ]
  },
  {
   "cell_type": "code",
   "execution_count": null,
   "metadata": {},
   "outputs": [],
   "source": [
    "x_axis1 = bigmen_scoring.index.tolist()\n",
    "x_axis2 = shorty_scoring.index.tolist()\n",
    "x_axis3 = shorty_fgpercent.index.tolist()\n",
    "x_axis4 = bigmen_fgpercent.index.tolist()\n",
    "x_axis5 = shorty_assist.index.tolist()\n",
    "x_axis6 = bigmen_assist.index.tolist()\n",
    "x_axis7 = shorty_assistpercent.index.tolist()\n",
    "x_axis8 = bigmen_assistpercent.index.tolist()\n",
    "x_axis9 = totalpts.index.tolist()\n",
    "x_axis10 = bigmenpts.index.tolist()\n",
    "x_axis11 = shortypts.index.tolist()\n",
    "x_axis12 = shortyPER.index.tolist()\n",
    "x_axis13 = bigmenPER.index.tolist()\n",
    "\n",
    "print(x_axis1)\n",
    "print(x_axis13)\n",
    "#used multiple x_axis but they were all consistent, printed two of them to compare"
   ]
  },
  {
   "cell_type": "code",
   "execution_count": null,
   "metadata": {},
   "outputs": [],
   "source": [
    "#made graph to show positional total scoring and then scoring by position designation\n",
    "fig, ax1 = plt.subplots()\n",
    "\n",
    "lns9 = ax1.plot(x_axis9,totalpts, marker ='o',color=\"red\", label = \"Total Points\" )\n",
    "lns10 = ax1.plot(x_axis10, bigmenpts,marker = '', color = \"olive\", linestyle = 'dashed', label = \"Big Men Points\")\n",
    "lns11 = ax1.plot(x_axis11, shortypts, color = \"orange\", linestyle = 'dashed',label = \"Shorty Points\")\n",
    "ax1.set_ylabel(\"Points\",fontweight= \"bold\")\n",
    "ax1.set_xlabel(\"Group Year Buckets\",fontweight= \"bold\")\n",
    "ax1.set_title(\"Total Points & Positional Points per Season 1980-2017\",fontweight= \"bold\")\n",
    "plt.xticks(rotation=45)\n",
    "\n",
    "fig.tight_layout()\n",
    "lns = lns9+lns10+lns11\n",
    "labs = [l.get_label() for l in lns]\n",
    "ax1.legend(lns, labs, loc= (1.05,.5))\n",
    "plt.savefig(\"images/TotalPointsJohnMichals.png\", dpi = 100, bbox_inches = \"tight\")\n",
    "plt.show()"
   ]
  },
  {
   "cell_type": "code",
   "execution_count": null,
   "metadata": {},
   "outputs": [],
   "source": [
    "#made bargraph to show PER averages over the years\n",
    "width = 0.35\n",
    "n_groups = 8\n",
    "\n",
    "\n",
    "fig,ax = plt.subplots()\n",
    "index = np.arange(n_groups)\n",
    "opacity = 0.5\n",
    "opacity_two = 1.0\n",
    "\n",
    "lns12 = ax.bar(index, shortyPER, width, align= 'center', edgecolor = 'black', linewidth = 1.5, alpha = opacity)\n",
    "lns13 = ax.bar(index + width, bigmenPER, width, align='center', edgecolor = 'black', linewidth = 1.5, alpha = opacity_two)\n",
    "\n",
    "ax.set_ylabel(\"PER Rating\",fontweight= \"bold\")\n",
    "ax.set_xlabel(\"Group Year Buckets\",fontweight= \"bold\")\n",
    "ax.set_ylim(12,15)\n",
    "ax.set_title(\"Total PER Bigmen vs. Everyone Else 1980-2017\",fontweight= \"bold\")\n",
    "ax.set_xticks(index + width / 2)\n",
    "ax.set_xticklabels(('1980-1984', '1985-1989', '1990-1994', '1995-1999', '2000-2004', '2005-2009', '2010-2014', '2015+'))\n",
    "ax.legend((lns12[0], lns13[0]), ('Shorties', 'BigMen'))\n",
    "plt.xticks(rotation=45)\n",
    "plt.savefig(\"images/bigsvseveryonebarJohnMichals.png\", dpi = 100, bbox_inches = \"tight\")\n",
    "plt.show()\n"
   ]
  },
  {
   "cell_type": "code",
   "execution_count": null,
   "metadata": {},
   "outputs": [],
   "source": [
    "data=np.array([bigmenPER, shortyPER])\n",
    "len(data[:,0])"
   ]
  },
  {
   "cell_type": "code",
   "execution_count": null,
   "metadata": {},
   "outputs": [],
   "source": [
    "#tried to mess around with a 3dbar chart but ultimately, not looking that great\n",
    "fig = plt.figure()\n",
    "ax = fig.add_subplot(111, projection = '3d')\n",
    "\n",
    "data=np.array([bigmenPER, shortyPER])\n",
    "\n",
    "row_names = ['BIGMEN', 'Shorties']\n",
    "column_names = ['1980-1984','1985-1989','1990-1994','1995-1999','2000-2004','2005-2009','2010-2014','2015+']\n",
    "lx=len(data[0])\n",
    "ly=len(data[:,0])\n",
    "\n",
    "xpos = np.arange(0,lx,1)\n",
    "ypos= np.arange(0,ly,1)\n",
    "xpos,ypos = np.meshgrid(xpos,ypos)\n",
    "xpos = xpos.flatten()\n",
    "ypos = ypos.flatten()\n",
    "zpos = np.zeros(lx*ly)\n",
    "\n",
    "dx = 0.5 * np.ones_like(zpos)\n",
    "dy = dx.copy()\n",
    "dz = data.flatten()\n",
    "\n",
    "cs = ['orange','gray','blue', 'yellow', 'green', 'cyan','lightblue','pink']*ly\n",
    "\n",
    "ax.bar3d(xpos,ypos,zpos,dx,dy,dz, color = cs)\n",
    "ax.w_xaxis.set_ticklabels(column_names, rotation=45)\n",
    "ax.w_yaxis.set_ticklabels(row_names, rotation = 335)\n",
    "\n",
    "#ax.set_xlabel('Groups')\n",
    "#ax.set_ylabel('Years')\n",
    "#ax.set_zlim(10,16) cant get this to work properly\n",
    "ax.set_zlabel('PER for groups')\n",
    "plt.savefig('images/Weird3dbarnotworkingfullyJohnMichals.png', dpi=100, bbox_inches =\"tight\")\n",
    "plt.show()"
   ]
  },
  {
   "cell_type": "code",
   "execution_count": null,
   "metadata": {},
   "outputs": [],
   "source": [
    "#made graph to show positional scoring by points and field goal percentage\n",
    "fig, ax1 = plt.subplots()\n",
    "\n",
    "lns1 = ax1.plot(x_axis1,bigmen_scoring, color=\"red\", label = \"Big Men Scoring\" )\n",
    "lns2 = ax1.plot(x_axis2, shorty_scoring, color = \"blue\", label = \"Shorties Scoring\")\n",
    "ax1.set_ylabel(\"Points\",fontweight= \"bold\")\n",
    "ax1.set_xlabel(\"Group Year Buckets\",fontweight= \"bold\")\n",
    "ax1.set_title(\"Positional Scoring & FG Percentage 1980-2017\",fontweight= \"bold\")\n",
    "plt.xticks(rotation=45)\n",
    "\n",
    "ax2 = ax1.twinx()\n",
    "\n",
    "lns3 = ax2.plot(x_axis1, bigmen_fgpercent, color=\"magenta\", linestyle = 'dashed', label = \"Big Men FG%\")\n",
    "lns4 = ax2.plot(x_axis2, shorty_fgpercent, color=\"cyan\", linestyle = 'dashed', label =\"Shorties FG%\")\n",
    "ax2.set_ylabel(\"FG Percentage\",fontweight= \"bold\")\n",
    "\n",
    "\n",
    "fig.tight_layout()\n",
    "lns = lns1+lns2+lns3+lns4\n",
    "labs = [l.get_label() for l in lns]\n",
    "ax1.legend(lns, labs, loc= (1.1,.3))\n",
    "plt.savefig(\"images/ScoringFGPercentageJohnMichals.png\", dpi = 100, bbox_inches = \"tight\")\n",
    "plt.show()"
   ]
  },
  {
   "cell_type": "code",
   "execution_count": null,
   "metadata": {},
   "outputs": [],
   "source": [
    "#made graph to show positional Field Goal Percentage and Minutes Played\n",
    "fig, ax1 = plt.subplots()\n",
    "\n",
    "lns14 = ax1.plot(x_axis1,bigmen_fgpercent, color=\"red\", label = \"Big Men FG%\" )\n",
    "lns15 = ax1.plot(x_axis2, shorty_fgpercent, color = \"blue\", label = \"Shorties FG%\")\n",
    "ax1.set_ylabel(\"FG Percentage\",fontweight= \"bold\")\n",
    "ax1.set_xlabel(\"Group Year Buckets\",fontweight= \"bold\")\n",
    "ax1.set_title(\"Positional FG% vs Minutes Played 1980-2017\",fontweight= \"bold\")\n",
    "plt.xticks(rotation=45)\n",
    "\n",
    "ax2 = ax1.twinx()\n",
    "\n",
    "lns16 = ax2.plot(x_axis1, bigmen_minutes, color=\"magenta\",linestyle = 'dashed', label = \"Big Men Minutes\")\n",
    "lns17 = ax2.plot(x_axis2, shorty_minutes, color=\"cyan\",linestyle = 'dashed', label =\"Shorties Minutes\")\n",
    "ax2.set_ylabel(\"Minutes Played\",fontweight= \"bold\")\n",
    "\n",
    "\n",
    "fig.tight_layout()\n",
    "lns = lns14+lns15+lns16+lns17\n",
    "labs = [l.get_label() for l in lns]\n",
    "ax1.legend(lns, labs, loc= (1.2,.2))\n",
    "plt.savefig(\"images/PositionalFG%JohnMichals.png\", dpi = 100, bbox_inches = \"tight\")\n",
    "plt.show()"
   ]
  },
  {
   "cell_type": "code",
   "execution_count": null,
   "metadata": {},
   "outputs": [],
   "source": [
    "#made graph to show positional assists and assist percentage\n",
    "fig, ax1 = plt.subplots()\n",
    "\n",
    "lns5 = ax1.plot(x_axis6,bigmen_assist, color=\"red\", label = \"Big Men Assists\" )\n",
    "lns6 = ax1.plot(x_axis5, shorty_assist, color = \"blue\", label = \"Shorties Assists\")\n",
    "ax1.set_ylabel(\"Assists\",fontweight= \"bold\")\n",
    "ax1.set_xlabel(\"Group Year Buckets\",fontweight= \"bold\")\n",
    "ax1.set_title(\"Positional Assists & Assist Percentage 1980-2017\",fontweight= \"bold\")\n",
    "plt.xticks(rotation=45)\n",
    "ax2 = ax1.twinx()\n",
    "\n",
    "lns7 = ax2.plot(x_axis8, bigmen_assistpercent, color=\"magenta\", label = \"Big Men AST%\")\n",
    "lns8 = ax2.plot(x_axis7, shorty_assistpercent, color=\"cyan\", label =\"Shorties AST%\")\n",
    "ax2.set_ylabel(\"Assist Percentage\",fontweight= \"bold\")\n",
    "\n",
    "\n",
    "fig.tight_layout()\n",
    "lns = lns5+lns6+lns7+lns8\n",
    "labs = [l.get_label() for l in lns]\n",
    "ax1.legend(lns, labs,loc= (1.2,.3))\n",
    "plt.savefig(\"images/Positional Assists & Assist PercentageJohnMichals.png\", dpi = 100, bbox_inches = \"tight\")\n",
    "plt.show()"
   ]
  },
  {
   "cell_type": "code",
   "execution_count": null,
   "metadata": {},
   "outputs": [],
   "source": [
    "#made graph to show shorties pts and then 2 and 3 point attemps\n",
    "fig, ax1 = plt.subplots()\n",
    "\n",
    "lns18 = ax1.plot(x_axis6,shorty_twonew, color=\"red\", alpha = .5, label = \"Shorty Two PA\" )\n",
    "lns19 = ax1.plot(x_axis8,bigmen_twonew, color=\"pink\", alpha = .5, label = \"Big Men Two PA\")\n",
    "lns20 = ax1.plot(x_axis5, shorty_threenew, color = \"green\", linestyle = 'dashed', alpha = .75, label = \"Short Three PA\")\n",
    "lns21 = ax1.plot(x_axis7, bigmen_threenew, color=\"black\",linestyle = 'dashed',alpha = .75, label =\"Big Men Three PA\")\n",
    "ax1.set_ylabel(\"Attemps\",fontweight= \"bold\")\n",
    "ax1.set_ylim(1000,500000)\n",
    "ax1.set_xlabel(\"Group Year Buckets\",fontweight= \"bold\")\n",
    "ax1.set_title(\"Shooting Attempts vs. FG Percentage 1980-2017\",fontweight= \"bold\")\n",
    "plt.xticks(rotation=45)\n",
    "ax2 = ax1.twinx()\n",
    "\n",
    "lns22 = ax2.plot(x_axis8,shorty_fgpercent, color=\"lightblue\", linewidth = 3, label = \"Shorty FG%\")\n",
    "lns23 = ax2.plot(x_axis7, bigmen_fgpercent, color=\"blue\", linewidth = 3, label =\"Big Men FG%\")\n",
    "ax2.set_ylabel(\"FG Percentage\",fontweight= \"bold\")\n",
    "ax2.set_ylim(40.5,48.5)\n",
    "\n",
    "\n",
    "fig.tight_layout()\n",
    "lns = lns18+lns19+lns20+lns21+lns22+lns23\n",
    "labs = [l.get_label() for l in lns]\n",
    "ax1.legend(lns, labs,loc= (1.2,.25))\n",
    "plt.savefig(\"images/ShootingAttemptsvsFGJohnMichals.png\", dpi = 100, bbox_inches = \"tight\")\n",
    "plt.show()"
   ]
  },
  {
   "cell_type": "code",
   "execution_count": null,
   "metadata": {},
   "outputs": [],
   "source": [
    "#Added in the player data file, nba_df\n",
    "nba_df.head()"
   ]
  },
  {
   "cell_type": "code",
   "execution_count": null,
   "metadata": {},
   "outputs": [],
   "source": [
    "#NEXT FEW LINES OF CODE DROP NAs, CHANGE HEIGHT TO TOTAL INCHES, CREATE CAREER LENGTH COLUMN\n",
    "nba_df = nba_df.dropna(how=\"any\")"
   ]
  },
  {
   "cell_type": "code",
   "execution_count": null,
   "metadata": {},
   "outputs": [],
   "source": [
    "nba_df[[\"height\",\"inches\"]]=nba_df[\"height\"].str.split('-',expand=True)"
   ]
  },
  {
   "cell_type": "code",
   "execution_count": null,
   "metadata": {},
   "outputs": [],
   "source": [
    "nba_df[\"height\"] = pd.to_numeric(nba_df[\"height\"])\n",
    "nba_df[\"inches\"] = pd.to_numeric(nba_df[\"inches\"])"
   ]
  },
  {
   "cell_type": "code",
   "execution_count": null,
   "metadata": {},
   "outputs": [],
   "source": [
    "nba_df['height'] = nba_df['height'].apply(lambda x: x*12)\n",
    "nba_df[\"total height\"] = nba_df[\"height\"] + nba_df[\"inches\"]\n",
    "nba_df[\"Career Length\"]= nba_df[\"year_end\"] - nba_df[\"year_start\"]"
   ]
  },
  {
   "cell_type": "code",
   "execution_count": null,
   "metadata": {},
   "outputs": [],
   "source": [
    "nba_df = nba_df[[\"name\", \"Career Length\", 'position', 'total height', 'weight', 'birth_date', 'college']]\n",
    "nba_df.head()"
   ]
  },
  {
   "cell_type": "code",
   "execution_count": null,
   "metadata": {},
   "outputs": [],
   "source": [
    "#check position\n",
    "nba_df[\"position\"].unique()"
   ]
  },
  {
   "cell_type": "code",
   "execution_count": null,
   "metadata": {},
   "outputs": [],
   "source": [
    "#created a onlybigs variable\n",
    "only_bigs = nba_df.loc[(nba_df[\"position\"] == \"C\") | (nba_df[\"position\"] ==\"C-F\") |(nba_df[\"position\"] ==\"F-C\"),:]\n",
    "other_than_bigs = nba_df.loc[(nba_df[\"position\"] == \"G\") | (nba_df[\"position\"] ==\"F-G\") |(nba_df[\"position\"] ==\"G-F\")\n",
    "                             |(nba_df[\"position\"] ==\"F\"),:]\n",
    "other_than_bigs.head()"
   ]
  },
  {
   "cell_type": "code",
   "execution_count": null,
   "metadata": {},
   "outputs": [],
   "source": [
    "#created variables for regression analysis\n",
    "player_height = nba_df[\"total height\"]\n",
    "career_length = nba_df[\"Career Length\"]"
   ]
  },
  {
   "cell_type": "code",
   "execution_count": null,
   "metadata": {},
   "outputs": [],
   "source": [
    "#runs regression to determine if career length is affected by a players height\n",
    "(slope, intercept, _, _, _) = stats.linregress(player_height, career_length) \n",
    "fit = slope* player_height + intercept\n",
    "#print(fit)"
   ]
  },
  {
   "cell_type": "code",
   "execution_count": null,
   "metadata": {},
   "outputs": [],
   "source": [
    "# Plot data\n",
    "fig, ax = plt.subplots()\n",
    "\n",
    "fig.suptitle(\"Career Length vs Height Regression\", fontsize=16, fontweight=\"bold\")\n",
    "\n",
    "ax.set_xlim(60,95)\n",
    "ax.set_ylim(-1,25)\n",
    "\n",
    "ax.set_xlabel(\"Total Height in Inches\", fontweight= \"bold\")\n",
    "ax.set_ylabel(\"Career Length in Year\",fontweight= \"bold\")\n",
    "\n",
    "ax.plot(player_height, career_length, linewidth=0, marker='o')\n",
    "ax.plot(player_height, fit, 'black')\n",
    "plt.savefig(\"images/CareerLengthRegression.png\", dpi = 100, bbox_inches = \"tight\")\n",
    "plt.show()"
   ]
  },
  {
   "cell_type": "code",
   "execution_count": null,
   "metadata": {},
   "outputs": [],
   "source": [
    "player_height = 84\n",
    "print(\"The expected career length for a Center with the height of \" +  str(player_height) + \" inches is \" +\n",
    "      str(slope * player_height + intercept) + \".\")"
   ]
  },
  {
   "cell_type": "code",
   "execution_count": null,
   "metadata": {},
   "outputs": [],
   "source": [
    "#Renamed for the merge, a new data frame with name not player\n",
    "bigmencleanformerge_df = bigmenclean_df.rename(columns={\"Player\": \"name\"})\n",
    "notbigmencleanformerge_df = shortiesclean_df.rename(columns={\"Player\": \"name\"})\n",
    "notbigmencleanformerge_df.head()"
   ]
  },
  {
   "cell_type": "code",
   "execution_count": null,
   "metadata": {},
   "outputs": [],
   "source": [
    "#This is fine, but height is not the only factor in terms of a career, we need to dig a little deeper\n",
    "nba_merge = pd.merge(bigmencleanformerge_df, only_bigs, on=\"name\", how=\"inner\")\n",
    "nba_otherposmerge = pd.merge(notbigmencleanformerge_df, other_than_bigs, on=\"name\", how=\"inner\")\n",
    "nba_otherposmerge.head()"
   ]
  },
  {
   "cell_type": "code",
   "execution_count": null,
   "metadata": {},
   "outputs": [],
   "source": [
    "#THIS WAS DONE SO THAT I COULD SORT THE TOP PERS AND THEN USE THEM IN A BUBBLE\n",
    "centerssortedPER = nba_merge.sort_values('PER', ascending = False)\n",
    "otherssortedPER = nba_otherposmerge.sort_values('PER', ascending = False)\n",
    "#OBPT30 = onlybigsPERtopthirty[\"PER\"].head(30)\n",
    "\n",
    "otherssortedPER.head()"
   ]
  },
  {
   "cell_type": "code",
   "execution_count": null,
   "metadata": {},
   "outputs": [],
   "source": [
    "colors = [\"coral\", \"lightskyblue\", \"gold\"]\n",
    "plt.scatter(centerssortedPER[\"PER\"].head(50), centerssortedPER[\"Career Length\"].head(50), marker=\"o\", c=\"coral\", edgecolors = \"black\", s = centerssortedPER[\"PTS\"]*.75, label = \"Bigs PER\", alpha = 0.95)\n",
    "plt.scatter(otherssortedPER[\"PER\"].head(50), otherssortedPER[\"Career Length\"].head(50), marker=\"o\", c=\"lightskyblue\", edgecolors = \"black\", s = otherssortedPER[\"PTS\"]*.75, label = \"Not Bigs PER\", alpha = 0.35)\n",
    "plt.grid(True)\n",
    "plt.xlim(15,40)\n",
    "plt.ylim(-1,22)\n",
    "plt.ylabel(\"Career Length in Years\", fontweight = \"bold\")\n",
    "plt.xlabel(\"PER Rating\", fontweight = \"bold\")\n",
    "plt.title(\"Bigs vs. Everyone Else Career by PER\", fontweight = \"bold\")\n",
    "lgnd = plt.legend(loc =(1.01, .5),title = \"PERs by Position\")\n",
    "lgnd.legendHandles[0]._sizes = [30]\n",
    "lgnd.legendHandles[1]._sizes = [30]\n",
    "plt.savefig(\"images/BubbleplotPERtop50.png\", dpi = 100, bbox_inches = \"tight\")\n",
    "plt.show()"
   ]
  },
  {
   "cell_type": "code",
   "execution_count": null,
   "metadata": {},
   "outputs": [],
   "source": [
    "nba_newmerge= nba_merge.groupby(\"name\")\n",
    "nba_newotherposmerge =nba_otherposmerge.groupby(\"name\")"
   ]
  },
  {
   "cell_type": "code",
   "execution_count": null,
   "metadata": {},
   "outputs": [],
   "source": [
    "#nba_newmerge.mean()\n",
    "nba_newotherposmerge[\"PER\"].mean().head()"
   ]
  },
  {
   "cell_type": "code",
   "execution_count": null,
   "metadata": {},
   "outputs": [],
   "source": [
    "#made new variable for the PER, will make scatter plot\n",
    "onlybigsPER = nba_newmerge[\"PER\"].mean()\n",
    "onlybigsPTS = nba_newmerge[\"PTS\"].mean()\n",
    "onlybigscareer = nba_newmerge[\"Career Length\"].count()\n",
    "onlybigsage = nba_newmerge[\"Age\"].mean() \n",
    "notbigsPER = nba_newotherposmerge[\"PER\"].mean()\n",
    "notbigsPTS = nba_newotherposmerge[\"PTS\"].mean()\n",
    "notbigscareer = nba_newotherposmerge[\"Career Length\"].count()\n",
    "notbigsage = nba_newotherposmerge[\"Age\"].mean()\n",
    "onlybigsPERtoptwenty = nba_newmerge[\"PER\"].mean().head(20)"
   ]
  },
  {
   "cell_type": "code",
   "execution_count": null,
   "metadata": {},
   "outputs": [],
   "source": [
    "#SORTED WITH THE APPLY METHOD, KEPT THE APPLY IN PLACE BECAUSE THE CODE IS GOOD.  DIDNT PRODUCE THE RESULT I WANTED THOUGH\n",
    "#onlybigsPERtoptwenty = nba_newmerge.apply(pd.DataFrame.sort_values, 'PER', ascending = False)\n",
    "#onlybigsPERtoptwenty.head(5)"
   ]
  },
  {
   "cell_type": "code",
   "execution_count": null,
   "metadata": {},
   "outputs": [],
   "source": [
    "colors = [\"coral\", \"lightskyblue\", \"gold\"]\n",
    "plt.scatter(onlybigsPER, onlybigscareer, marker=\"o\", c=\"coral\", edgecolors = \"black\", s = onlybigsPTS, label = \"Bigs PER\", alpha = 0.95)\n",
    "plt.scatter(notbigsPER, notbigscareer, marker=\"o\", c=\"lightskyblue\", edgecolors = \"black\", s = notbigsPTS, label = \"Not Bigs PER\", alpha = 0.15)\n",
    "plt.grid(True)\n",
    "plt.xlim(-1,29)\n",
    "plt.ylim(-3,25)\n",
    "plt.ylabel(\"Career Length in Years\", fontweight = \"bold\")\n",
    "plt.xlabel(\"PER Rating\", fontweight = \"bold\")\n",
    "plt.title(\"Bigs vs. Everyone Else Career by PER\", fontweight = \"bold\")\n",
    "lgnd = plt.legend(loc =(1.01, .5),title = \"PERs by Position\")\n",
    "lgnd.legendHandles[0]._sizes = [30]\n",
    "lgnd.legendHandles[1]._sizes = [30]\n",
    "plt.savefig(\"images/BubbleplotPER.png\", dpi = 100, bbox_inches = \"tight\")\n",
    "plt.show()"
   ]
  },
  {
   "cell_type": "code",
   "execution_count": null,
   "metadata": {},
   "outputs": [],
   "source": []
  },
  {
   "cell_type": "code",
   "execution_count": null,
   "metadata": {},
   "outputs": [],
   "source": []
  },
  {
   "cell_type": "code",
   "execution_count": null,
   "metadata": {},
   "outputs": [],
   "source": []
  },
  {
   "cell_type": "code",
   "execution_count": null,
   "metadata": {},
   "outputs": [],
   "source": []
  }
 ],
 "metadata": {
  "kernelspec": {
   "display_name": "Python 3",
   "language": "python",
   "name": "python3"
  },
  "language_info": {
   "codemirror_mode": {
    "name": "ipython",
    "version": 3
   },
   "file_extension": ".py",
   "mimetype": "text/x-python",
   "name": "python",
   "nbconvert_exporter": "python",
   "pygments_lexer": "ipython3",
   "version": "3.6.5"
  }
 },
 "nbformat": 4,
 "nbformat_minor": 2
}
