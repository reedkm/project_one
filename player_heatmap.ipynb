{
 "cells": [
  {
   "cell_type": "code",
   "execution_count": 1,
   "metadata": {},
   "outputs": [],
   "source": [
    "%matplotlib inline\n",
    "# Dependencies and Setup\n",
    "import matplotlib.pyplot as plt\n",
    "import pandas as pd\n",
    "import numpy as np\n",
    "import os\n",
    "import csv\n",
    "import requests\n",
    "import json\n",
    "import gmaps\n",
    "\n",
    "# Google developer API key\n",
    "from config import gkey\n",
    "\n",
    "# Configure gmaps\n",
    "gmaps.configure(api_key=gkey)"
   ]
  },
  {
   "cell_type": "code",
   "execution_count": 2,
   "metadata": {},
   "outputs": [],
   "source": [
    "# Files to Load\n",
    "player_data_to_load = os.path.join(\"player_data_cleaned.csv\")\n",
    "seasons_data_to_load = os.path.join(\"Seasons_stats.csv\")\n",
    "# Inspect budget data from U.S. Department of Education 2010-2017 https://ope.ed.gov/athletics/#/datafile/list\n",
    "#budgets_2009_data_to_load = os.path.join(\"budgets/\",\"ope_ed_gov_schools_2008-2009.csv\")\n",
    "#budgets_2010_data_to_load = os.path.join(\"budgets/\",\"ope_ed_gov_schools_2009-2010.csv\")\n",
    "#budgets_2011_data_to_load = os.path.join(\"budgets/\",\"ope_ed_gov_schools_2010-2011.csv\")\n",
    "#budgets_2012_data_to_load = os.path.join(\"budgets/\",\"ope_ed_gov_schools_2011-2012.csv\")\n",
    "#budgets_2013_data_to_load = os.path.join(\"budgets/\",\"ope_ed_gov_schools_2012-2013.csv\")\n",
    "#budgets_2014_data_to_load = os.path.join(\"budgets/\",\"ope_ed_gov_schools_2013-2014.csv\")\n",
    "#budgets_2015_data_to_load = os.path.join(\"budgets/\",\"ope_ed_gov_schools_2014-2015.csv\")\n",
    "#budgets_2016_data_to_load = os.path.join(\"budgets/\",\"ope_ed_gov_schools_2015-2016.csv\")\n",
    "#budgets_2017_data_to_load = os.path.join(\"budgets/\",\"ope_ed_gov_schools_2016-2017.csv\")\n",
    "budgets_2010_data_to_load = os.path.join(\"budgets/\",\"EADA2010.csv\")\n",
    "budgets_2011_data_to_load = os.path.join(\"budgets/\",\"EADA2011.csv\")\n",
    "budgets_2012_data_to_load = os.path.join(\"budgets/\",\"EADA2012.csv\")\n",
    "budgets_2013_data_to_load = os.path.join(\"budgets/\",\"EADA2013.csv\")\n",
    "budgets_2014_data_to_load = os.path.join(\"budgets/\",\"EADA2014.csv\")\n",
    "budgets_2015_data_to_load = os.path.join(\"budgets/\",\"EADA2015.csv\")\n",
    "budgets_2016_data_to_load = os.path.join(\"budgets/\",\"EADA2016.csv\")\n",
    "budgets_2017_data_to_load = os.path.join(\"budgets/\",\"EADA2017.csv\")\n",
    "\n",
    "\n",
    "# Read the Player and Season Data\n",
    "player_data_df = pd.read_csv(player_data_to_load, encoding=\"UTF-8\")\n",
    "seasons_data_df = pd.read_csv(seasons_data_to_load, encoding=\"UTF-8\")\n",
    "\n",
    "# Read the Budget Data From 2008-2017; reduce 4200+ columns to 17\n",
    "budget2010_data_df = pd.read_csv(budgets_2010_data_to_load, encoding=\"UTF-8\", usecols=[1, 4, 8, 10, 15, 26, 50, 143, 152, 158, 168, 316, 390, 427, 945, 3609, 3942])\n",
    "budget2011_data_df = pd.read_csv(budgets_2011_data_to_load, encoding=\"UTF-8\", usecols=[1, 4, 8, 10, 15, 26, 50, 143, 152, 158, 168, 316, 390, 427, 945, 3609, 3942])\n",
    "budget2012_data_df = pd.read_csv(budgets_2012_data_to_load, encoding=\"UTF-8\", usecols=[1, 4, 8, 10, 15, 26, 50, 143, 152, 158, 168, 316, 390, 427, 945, 3609, 3942])\n",
    "budget2013_data_df = pd.read_csv(budgets_2013_data_to_load, encoding=\"UTF-8\", usecols=[1, 4, 8, 10, 15, 26, 50, 143, 152, 158, 168, 316, 390, 427, 945, 3609, 3942])\n",
    "budget2014_data_df = pd.read_csv(budgets_2014_data_to_load, encoding=\"UTF-8\", usecols=[1, 4, 8, 10, 15, 26, 50, 143, 152, 158, 168, 316, 390, 427, 945, 3609, 3942])\n",
    "budget2015_data_df = pd.read_csv(budgets_2015_data_to_load, encoding=\"UTF-8\", usecols=[1, 4, 8, 10, 15, 26, 50, 143, 152, 158, 168, 316, 390, 427, 945, 3609, 3942])\n",
    "budget2016_data_df = pd.read_csv(budgets_2016_data_to_load, encoding=\"UTF-8\", usecols=[1, 4, 8, 10, 15, 26, 50, 143, 152, 158, 168, 316, 390, 427, 945, 3609, 3942])\n",
    "budget2017_data_df = pd.read_csv(budgets_2017_data_to_load, encoding=\"UTF-8\", usecols=[1, 4, 8, 10, 15, 26, 50, 143, 152, 158, 168, 316, 390, 427, 945, 3609, 3942])\n",
    "\n",
    "#budget2009_data_df = pd.read_csv(budgets_2009_data_to_load, encoding=\"UTF-8\", usecols=[1, 4, 8, 12, 16, 22, 23, 36, 37, 38, 39, 40, 45, 46, 47, 48, 49, 64, 65, 66, 67, 72, 73, 74, 75, 76, 81, 82, 83, 84, 85, 100, 101, 102, 103, 108, 109, 112, 114, 115, 117, 118, 120, 121, 123, 124, 126, 127]) \n",
    "#budget2010_data_df = pd.read_csv(budgets_2010_data_to_load, encoding=\"UTF-8\", usecols=[1, 4, 8, 12, 16, 22, 23, 36, 37, 38, 39, 40, 45, 46, 47, 48, 49, 64, 65, 66, 67, 72, 73, 74, 75, 76, 81, 82, 83, 84, 85, 100, 101, 102, 103, 108, 109, 112, 114, 115, 117, 118, 120, 121, 123, 124, 126, 127]) \n",
    "#budget2011_data_df = pd.read_csv(budgets_2011_data_to_load, encoding=\"UTF-8\", usecols=[1, 4, 8, 12, 16, 22, 23, 36, 37, 38, 39, 40, 45, 46, 47, 48, 49, 64, 65, 66, 67, 72, 73, 74, 75, 76, 81, 82, 83, 84, 85, 100, 101, 102, 103, 108, 109, 112, 114, 115, 117, 118, 120, 121, 123, 124, 126, 127]) \n",
    "#budget2012_data_df = pd.read_csv(budgets_2012_data_to_load, encoding=\"UTF-8\", usecols=[1, 4, 8, 12, 16, 22, 23, 36, 37, 38, 39, 40, 45, 46, 47, 48, 49, 64, 65, 66, 67, 72, 73, 74, 75, 76, 81, 82, 83, 84, 85, 100, 101, 102, 103, 108, 109, 112, 114, 115, 117, 118, 120, 121, 123, 124, 126, 127]) \n",
    "#budget2013_data_df = pd.read_csv(budgets_2013_data_to_load, encoding=\"UTF-8\", usecols=[1, 4, 8, 12, 16, 22, 23, 36, 37, 38, 39, 40, 45, 46, 47, 48, 49, 64, 65, 66, 67, 72, 73, 74, 75, 76, 81, 82, 83, 84, 85, 100, 101, 102, 103, 108, 109, 112, 114, 115, 117, 118, 120, 121, 123, 124, 126, 127]) \n",
    "#budget2014_data_df = pd.read_csv(budgets_2014_data_to_load, encoding=\"UTF-8\", usecols=[1, 4, 8, 12, 16, 22, 23, 36, 37, 38, 39, 40, 45, 46, 47, 48, 49, 64, 65, 66, 67, 72, 73, 74, 75, 76, 81, 82, 83, 84, 85, 100, 101, 102, 103, 108, 109, 112, 114, 115, 117, 118, 120, 121, 123, 124, 126, 127]) \n",
    "#budget2015_data_df = pd.read_csv(budgets_2015_data_to_load, encoding=\"UTF-8\", usecols=[1, 4, 8, 12, 16, 22, 23, 36, 37, 38, 39, 40, 45, 46, 47, 48, 49, 64, 65, 66, 67, 72, 73, 74, 75, 76, 81, 82, 83, 84, 85, 100, 101, 102, 103, 108, 109, 112, 114, 115, 117, 118, 120, 121, 123, 124, 126, 127])\n",
    "#budget2016_data_df = pd.read_csv(budgets_2016_data_to_load, encoding=\"UTF-8\", usecols=[1, 4, 8, 12, 16, 22, 23, 36, 37, 38, 39, 40, 45, 46, 47, 48, 49, 64, 65, 66, 67, 72, 73, 74, 75, 76, 81, 82, 83, 84, 85, 100, 101, 102, 103, 108, 109, 112, 114, 115, 117, 118, 120, 121, 123, 124, 126, 127])\n",
    "#budget2017_data_df = pd.read_csv(budgets_2017_data_to_load, encoding=\"UTF-8\", usecols=[1, 4, 8, 12, 16, 22, 23, 36, 37, 38, 39, 40, 45, 46, 47, 48, 49, 64, 65, 66, 67, 72, 73, 74, 75, 76, 81, 82, 83, 84, 85, 100, 101, 102, 103, 108, 109, 112, 114, 115, 117, 118, 120, 121, 123, 124, 126, 127])\n",
    "\n",
    "\n",
    "# Display the data table for preview\n",
    "budget2010_data_df.to_csv(\"budget2010_data_df.csv\")\n",
    "budget2011_data_df.to_csv(\"budget2011_data_df.csv\")\n",
    "budget2012_data_df.to_csv(\"budget2012_data_df.csv\")\n",
    "budget2013_data_df.to_csv(\"budget2013_data_df.csv\")\n",
    "budget2014_data_df.to_csv(\"budget2014_data_df.csv\")\n",
    "budget2015_data_df.to_csv(\"budget2015_data_df.csv\")\n",
    "budget2016_data_df.to_csv(\"budget2016_data_df.csv\")\n",
    "budget2017_data_df.to_csv(\"budget2017_data_df.csv\")\n",
    "\n",
    "#player_data_df.head()"
   ]
  },
  {
   "cell_type": "code",
   "execution_count": 3,
   "metadata": {},
   "outputs": [],
   "source": [
    "#cleaned up\n",
    "#University of California, Los Angeles\tUniversity of California-Los Angeles#\n",
    "#University of North Carolina\tUniversity of North Carolina at Chapel Hill\n",
    "#Indiana University\tIndiana University-Bloomington\n",
    "#St. John's University\tSt. John's University-New York\n",
    "#University of Michigan\tUniversity of Michigan-Ann Arbor\n",
    "#Ohio State University\tOhio State University-Main Campus\n",
    "#North Carolina State University\tNorth Carolina State University at Raleigh\n",
    "#University of Minnesota\tUniversity of Minnesota-Twin Cities\n",
    "#University of Maryland\tUniversity of Maryland-College Park\n",
    "#Louisiana State University\tLouisiana State University and Agricultural & Mechanical College\n",
    "#Georgia Institute of Technology\tGeorgia Institute of Technology-Main Campus\n",
    "#University of Nevada, Las Vegas\tUniversity of Nevada-Las Vegas"
   ]
  },
  {
   "cell_type": "code",
   "execution_count": 4,
   "metadata": {},
   "outputs": [
    {
     "data": {
      "text/html": [
       "<div>\n",
       "<style scoped>\n",
       "    .dataframe tbody tr th:only-of-type {\n",
       "        vertical-align: middle;\n",
       "    }\n",
       "\n",
       "    .dataframe tbody tr th {\n",
       "        vertical-align: top;\n",
       "    }\n",
       "\n",
       "    .dataframe thead th {\n",
       "        text-align: right;\n",
       "    }\n",
       "</style>\n",
       "<table border=\"1\" class=\"dataframe\">\n",
       "  <thead>\n",
       "    <tr style=\"text-align: right;\">\n",
       "      <th></th>\n",
       "      <th>institution_name</th>\n",
       "      <th>city_txt</th>\n",
       "      <th>classification_name</th>\n",
       "      <th>EFMaleCount</th>\n",
       "      <th>STUDENTAID_MEN</th>\n",
       "      <th>HDCOACH_SALARY_MEN</th>\n",
       "      <th>IL_PARTIC_MEN</th>\n",
       "      <th>IL_REV_MEN</th>\n",
       "      <th>IL_EXP_MEN</th>\n",
       "      <th>IL_EXPENSE_MENALL</th>\n",
       "      <th>PARTIC_MEN_Bskball</th>\n",
       "      <th>SUM_PARTIC_MEN_Bskball</th>\n",
       "      <th>OPEXPPERPART_MEN_Bskball</th>\n",
       "      <th>OPEXPPERTEAM_MEN_Bskball</th>\n",
       "      <th>MEN_FTHEADCOACH_MALE_Bskball</th>\n",
       "      <th>REV_MEN_Bskball</th>\n",
       "      <th>EXP_MEN_Bskball</th>\n",
       "    </tr>\n",
       "  </thead>\n",
       "  <tbody>\n",
       "    <tr>\n",
       "      <th>0</th>\n",
       "      <td>Alabama A &amp; M University</td>\n",
       "      <td>Normal</td>\n",
       "      <td>NCAA Division I-FCS</td>\n",
       "      <td>1801</td>\n",
       "      <td>2085307.0</td>\n",
       "      <td>67604.0</td>\n",
       "      <td>226.0</td>\n",
       "      <td>946611.0</td>\n",
       "      <td>946611.0</td>\n",
       "      <td>946611</td>\n",
       "      <td>15.0</td>\n",
       "      <td>15.0</td>\n",
       "      <td>15111.0</td>\n",
       "      <td>226663.0</td>\n",
       "      <td>1.0</td>\n",
       "      <td>824939.0</td>\n",
       "      <td>824939.0</td>\n",
       "    </tr>\n",
       "    <tr>\n",
       "      <th>1</th>\n",
       "      <td>University of Alabama at Birmingham</td>\n",
       "      <td>Birmingham</td>\n",
       "      <td>NCAA Division I-FBS</td>\n",
       "      <td>3668</td>\n",
       "      <td>1745432.0</td>\n",
       "      <td>164067.0</td>\n",
       "      <td>95.0</td>\n",
       "      <td>3009310.0</td>\n",
       "      <td>3009065.0</td>\n",
       "      <td>3068488</td>\n",
       "      <td>13.0</td>\n",
       "      <td>13.0</td>\n",
       "      <td>56111.0</td>\n",
       "      <td>729441.0</td>\n",
       "      <td>1.0</td>\n",
       "      <td>3369190.0</td>\n",
       "      <td>3357016.0</td>\n",
       "    </tr>\n",
       "    <tr>\n",
       "      <th>2</th>\n",
       "      <td>University of Alabama in Huntsville</td>\n",
       "      <td>Huntsville</td>\n",
       "      <td>NCAA Division II without football</td>\n",
       "      <td>3023</td>\n",
       "      <td>1603935.0</td>\n",
       "      <td>67071.0</td>\n",
       "      <td>259.0</td>\n",
       "      <td>2989458.0</td>\n",
       "      <td>2989458.0</td>\n",
       "      <td>2989458</td>\n",
       "      <td>19.0</td>\n",
       "      <td>19.0</td>\n",
       "      <td>5687.0</td>\n",
       "      <td>108046.0</td>\n",
       "      <td>1.0</td>\n",
       "      <td>678342.0</td>\n",
       "      <td>678342.0</td>\n",
       "    </tr>\n",
       "    <tr>\n",
       "      <th>3</th>\n",
       "      <td>Alabama State University</td>\n",
       "      <td>Montgomery</td>\n",
       "      <td>NCAA Division I-FCS</td>\n",
       "      <td>1646</td>\n",
       "      <td>2123402.0</td>\n",
       "      <td>96711.0</td>\n",
       "      <td>251.0</td>\n",
       "      <td>1319095.0</td>\n",
       "      <td>1319095.0</td>\n",
       "      <td>1319095</td>\n",
       "      <td>16.0</td>\n",
       "      <td>16.0</td>\n",
       "      <td>5384.0</td>\n",
       "      <td>86146.0</td>\n",
       "      <td>1.0</td>\n",
       "      <td>815998.0</td>\n",
       "      <td>815998.0</td>\n",
       "    </tr>\n",
       "    <tr>\n",
       "      <th>4</th>\n",
       "      <td>The University of Alabama</td>\n",
       "      <td>Tuscaloosa</td>\n",
       "      <td>NCAA Division I-FBS</td>\n",
       "      <td>13038</td>\n",
       "      <td>8602048.0</td>\n",
       "      <td>2235296.0</td>\n",
       "      <td>362.0</td>\n",
       "      <td>2113599.0</td>\n",
       "      <td>10074583.0</td>\n",
       "      <td>10074583</td>\n",
       "      <td>15.0</td>\n",
       "      <td>15.0</td>\n",
       "      <td>122080.0</td>\n",
       "      <td>1831200.0</td>\n",
       "      <td>1.0</td>\n",
       "      <td>15003656.0</td>\n",
       "      <td>9681264.0</td>\n",
       "    </tr>\n",
       "  </tbody>\n",
       "</table>\n",
       "</div>"
      ],
      "text/plain": [
       "                      institution_name    city_txt  \\\n",
       "0             Alabama A & M University      Normal   \n",
       "1  University of Alabama at Birmingham  Birmingham   \n",
       "2  University of Alabama in Huntsville  Huntsville   \n",
       "3             Alabama State University  Montgomery   \n",
       "4            The University of Alabama  Tuscaloosa   \n",
       "\n",
       "                 classification_name  EFMaleCount  STUDENTAID_MEN  \\\n",
       "0                NCAA Division I-FCS         1801       2085307.0   \n",
       "1                NCAA Division I-FBS         3668       1745432.0   \n",
       "2  NCAA Division II without football         3023       1603935.0   \n",
       "3                NCAA Division I-FCS         1646       2123402.0   \n",
       "4                NCAA Division I-FBS        13038       8602048.0   \n",
       "\n",
       "   HDCOACH_SALARY_MEN  IL_PARTIC_MEN  IL_REV_MEN  IL_EXP_MEN  \\\n",
       "0             67604.0          226.0    946611.0    946611.0   \n",
       "1            164067.0           95.0   3009310.0   3009065.0   \n",
       "2             67071.0          259.0   2989458.0   2989458.0   \n",
       "3             96711.0          251.0   1319095.0   1319095.0   \n",
       "4           2235296.0          362.0   2113599.0  10074583.0   \n",
       "\n",
       "   IL_EXPENSE_MENALL  PARTIC_MEN_Bskball  SUM_PARTIC_MEN_Bskball  \\\n",
       "0             946611                15.0                    15.0   \n",
       "1            3068488                13.0                    13.0   \n",
       "2            2989458                19.0                    19.0   \n",
       "3            1319095                16.0                    16.0   \n",
       "4           10074583                15.0                    15.0   \n",
       "\n",
       "   OPEXPPERPART_MEN_Bskball  OPEXPPERTEAM_MEN_Bskball  \\\n",
       "0                   15111.0                  226663.0   \n",
       "1                   56111.0                  729441.0   \n",
       "2                    5687.0                  108046.0   \n",
       "3                    5384.0                   86146.0   \n",
       "4                  122080.0                 1831200.0   \n",
       "\n",
       "   MEN_FTHEADCOACH_MALE_Bskball  REV_MEN_Bskball  EXP_MEN_Bskball  \n",
       "0                           1.0         824939.0         824939.0  \n",
       "1                           1.0        3369190.0        3357016.0  \n",
       "2                           1.0         678342.0         678342.0  \n",
       "3                           1.0         815998.0         815998.0  \n",
       "4                           1.0       15003656.0        9681264.0  "
      ]
     },
     "execution_count": 4,
     "metadata": {},
     "output_type": "execute_result"
    }
   ],
   "source": [
    "# Inspect budget data from U.S. Department of Education 2017 https://ope.ed.gov/athletics/#/datafile/list\n",
    "budget2017_data_df.head()"
   ]
  },
  {
   "cell_type": "code",
   "execution_count": 5,
   "metadata": {},
   "outputs": [
    {
     "data": {
      "text/plain": [
       "institution_name                2062\n",
       "city_txt                        2061\n",
       "classification_name             2062\n",
       "EFMaleCount                     2062\n",
       "STUDENTAID_MEN                  2047\n",
       "HDCOACH_SALARY_MEN              2046\n",
       "IL_PARTIC_MEN                   2059\n",
       "IL_REV_MEN                      2025\n",
       "IL_EXP_MEN                      2025\n",
       "IL_EXPENSE_MENALL               2062\n",
       "PARTIC_MEN_Bskball              1956\n",
       "SUM_PARTIC_MEN_Bskball          1979\n",
       "OPEXPPERPART_MEN_Bskball        1979\n",
       "OPEXPPERTEAM_MEN_Bskball        1979\n",
       "MEN_FTHEADCOACH_MALE_Bskball    1016\n",
       "REV_MEN_Bskball                 1956\n",
       "EXP_MEN_Bskball                 1956\n",
       "dtype: int64"
      ]
     },
     "execution_count": 5,
     "metadata": {},
     "output_type": "execute_result"
    }
   ],
   "source": [
    "budget2017_data_df.count()"
   ]
  },
  {
   "cell_type": "code",
   "execution_count": 6,
   "metadata": {},
   "outputs": [],
   "source": [
    "#Merge budget data in steps\n",
    "#1 - all imported together in pairs\n",
    "budget_data_merged_1 = pd.merge(budget2010_data_df, budget2011_data_df, on=\"institution_name\", suffixes=['_2010','_2011'], how=\"left\")\n",
    "budget_data_merged_2 = pd.merge(budget2012_data_df, budget2013_data_df, on=\"institution_name\", suffixes=['_2012','_2013'], how=\"left\")\n",
    "budget_data_merged_3 = pd.merge(budget2014_data_df, budget2015_data_df, on=\"institution_name\", suffixes=['_2014','_2015'], how=\"left\")\n",
    "budget_data_merged_4 = pd.merge(budget2016_data_df, budget2017_data_df, on=\"institution_name\", suffixes=['_2016','_2017'], how=\"left\")\n",
    "\n",
    "#2 - pairs merged agains\n",
    "budget_data_merged_6 = pd.merge(budget_data_merged_1, budget_data_merged_2, on=\"institution_name\", how=\"left\")\n",
    "budget_data_merged_7 = pd.merge(budget_data_merged_3, budget_data_merged_4, on=\"institution_name\", how=\"left\")\n",
    "\n",
    "#3 - final merge\n",
    "budget_data_merged_total = pd.merge(budget_data_merged_6, budget_data_merged_7, on=\"institution_name\", how=\"left\")\n",
    "\n",
    "budget_data_merged_total.to_csv(\"budget_data_merged_total.csv\")"
   ]
  },
  {
   "cell_type": "code",
   "execution_count": 7,
   "metadata": {},
   "outputs": [],
   "source": [
    "# Add total columns for head coach salary, expenses, and revenues\n",
    "budget_data_merged_total_summed = budget_data_merged_total.copy()\n",
    "budget_data_merged_total_summed['Total_StudentAid'] = budget_data_merged_total['STUDENTAID_MEN_2010'] + budget_data_merged_total['STUDENTAID_MEN_2011'] + budget_data_merged_total['STUDENTAID_MEN_2012'] + budget_data_merged_total['STUDENTAID_MEN_2013'] + budget_data_merged_total['STUDENTAID_MEN_2014'] + budget_data_merged_total['STUDENTAID_MEN_2015'] + budget_data_merged_total['STUDENTAID_MEN_2016'] + budget_data_merged_total['STUDENTAID_MEN_2017']\n",
    "budget_data_merged_total_summed['Total_HeadCoachSalary'] = budget_data_merged_total['HDCOACH_SALARY_MEN_2010'] + budget_data_merged_total['HDCOACH_SALARY_MEN_2011'] + budget_data_merged_total['HDCOACH_SALARY_MEN_2012'] + budget_data_merged_total['HDCOACH_SALARY_MEN_2013'] + budget_data_merged_total['HDCOACH_SALARY_MEN_2014'] + budget_data_merged_total['HDCOACH_SALARY_MEN_2015'] + budget_data_merged_total['HDCOACH_SALARY_MEN_2016'] + budget_data_merged_total['HDCOACH_SALARY_MEN_2017']\n",
    "budget_data_merged_total_summed['Total_Revenue'] = budget_data_merged_total['REV_MEN_Bskball_2010'] + budget_data_merged_total['REV_MEN_Bskball_2011'] + budget_data_merged_total['REV_MEN_Bskball_2012'] + budget_data_merged_total['REV_MEN_Bskball_2013'] + budget_data_merged_total['REV_MEN_Bskball_2014'] + budget_data_merged_total['REV_MEN_Bskball_2015'] + budget_data_merged_total['EXP_MEN_Bskball_2016'] + budget_data_merged_total['EXP_MEN_Bskball_2017']\n",
    "budget_data_merged_total_summed['Total_Expense'] = budget_data_merged_total['EXP_MEN_Bskball_2010'] + budget_data_merged_total['EXP_MEN_Bskball_2011'] + budget_data_merged_total['EXP_MEN_Bskball_2012'] + budget_data_merged_total['EXP_MEN_Bskball_2013'] + budget_data_merged_total['EXP_MEN_Bskball_2014'] + budget_data_merged_total['EXP_MEN_Bskball_2015'] + budget_data_merged_total['REV_MEN_Bskball_2016'] + budget_data_merged_total['REV_MEN_Bskball_2017']\n",
    "budget_data_merged_total_summed.head()\n",
    "budget_data_merged_total_summed.to_csv(\"budget_data_merged_total_summed.csv\")"
   ]
  },
  {
   "cell_type": "code",
   "execution_count": 83,
   "metadata": {},
   "outputs": [
    {
     "data": {
      "text/html": [
       "<div>\n",
       "<style scoped>\n",
       "    .dataframe tbody tr th:only-of-type {\n",
       "        vertical-align: middle;\n",
       "    }\n",
       "\n",
       "    .dataframe tbody tr th {\n",
       "        vertical-align: top;\n",
       "    }\n",
       "\n",
       "    .dataframe thead th {\n",
       "        text-align: right;\n",
       "    }\n",
       "</style>\n",
       "<table border=\"1\" class=\"dataframe\">\n",
       "  <thead>\n",
       "    <tr style=\"text-align: right;\">\n",
       "      <th></th>\n",
       "      <th>institution_name</th>\n",
       "      <th>Total_HeadCoachSalary</th>\n",
       "      <th>Total_StudentAid</th>\n",
       "      <th>Total_Expense</th>\n",
       "      <th>Total_Revenue</th>\n",
       "    </tr>\n",
       "  </thead>\n",
       "  <tbody>\n",
       "    <tr>\n",
       "      <th>0</th>\n",
       "      <td>University of Louisville</td>\n",
       "      <td>7718377.0</td>\n",
       "      <td>40726724.0</td>\n",
       "      <td>176300783.0</td>\n",
       "      <td>272985062.0</td>\n",
       "    </tr>\n",
       "    <tr>\n",
       "      <th>1</th>\n",
       "      <td>Duke University</td>\n",
       "      <td>6248265.0</td>\n",
       "      <td>75326839.0</td>\n",
       "      <td>156658579.0</td>\n",
       "      <td>205155916.0</td>\n",
       "    </tr>\n",
       "    <tr>\n",
       "      <th>2</th>\n",
       "      <td>University of Kentucky</td>\n",
       "      <td>8866796.0</td>\n",
       "      <td>45346350.0</td>\n",
       "      <td>144133449.0</td>\n",
       "      <td>166569620.0</td>\n",
       "    </tr>\n",
       "    <tr>\n",
       "      <th>3</th>\n",
       "      <td>Syracuse University</td>\n",
       "      <td>3758480.0</td>\n",
       "      <td>62676698.0</td>\n",
       "      <td>126942611.0</td>\n",
       "      <td>175512227.0</td>\n",
       "    </tr>\n",
       "    <tr>\n",
       "      <th>4</th>\n",
       "      <td>Indiana University-Bloomington</td>\n",
       "      <td>4089659.0</td>\n",
       "      <td>54543320.0</td>\n",
       "      <td>104947378.0</td>\n",
       "      <td>144558624.0</td>\n",
       "    </tr>\n",
       "  </tbody>\n",
       "</table>\n",
       "</div>"
      ],
      "text/plain": [
       "                 institution_name  Total_HeadCoachSalary  Total_StudentAid  \\\n",
       "0        University of Louisville              7718377.0        40726724.0   \n",
       "1                 Duke University              6248265.0        75326839.0   \n",
       "2          University of Kentucky              8866796.0        45346350.0   \n",
       "3             Syracuse University              3758480.0        62676698.0   \n",
       "4  Indiana University-Bloomington              4089659.0        54543320.0   \n",
       "\n",
       "   Total_Expense  Total_Revenue  \n",
       "0    176300783.0    272985062.0  \n",
       "1    156658579.0    205155916.0  \n",
       "2    144133449.0    166569620.0  \n",
       "3    126942611.0    175512227.0  \n",
       "4    104947378.0    144558624.0  "
      ]
     },
     "execution_count": 83,
     "metadata": {},
     "output_type": "execute_result"
    }
   ],
   "source": [
    "top25_df = budget_data_merged_total_summed[['institution_name','Total_HeadCoachSalary','Total_StudentAid','Total_Expense','Total_Revenue']].copy()\n",
    "top25_df = top25_df.sort_values(by='Total_Expense', ascending=False)\n",
    "top25_df = top25_df.reset_index(drop=True).head(25)\n",
    "top25_df.head()"
   ]
  },
  {
   "cell_type": "code",
   "execution_count": 84,
   "metadata": {},
   "outputs": [
    {
     "data": {
      "image/png": "[encoded data removed]",
      "text/plain": [
       "<Figure size 432x288 with 1 Axes>"
      ]
     },
     "metadata": {},
     "output_type": "display_data"
    }
   ],
   "source": [
    "top25_df.plot.barh(stacked=True,alpha=0.5)\n",
    "plt.show()"
   ]
  },
  {
   "cell_type": "code",
   "execution_count": 66,
   "metadata": {},
   "outputs": [
    {
     "data": {
      "text/html": [
       "<div>\n",
       "<style scoped>\n",
       "    .dataframe tbody tr th:only-of-type {\n",
       "        vertical-align: middle;\n",
       "    }\n",
       "\n",
       "    .dataframe tbody tr th {\n",
       "        vertical-align: top;\n",
       "    }\n",
       "\n",
       "    .dataframe thead th {\n",
       "        text-align: right;\n",
       "    }\n",
       "</style>\n",
       "<table border=\"1\" class=\"dataframe\">\n",
       "  <thead>\n",
       "    <tr style=\"text-align: right;\">\n",
       "      <th></th>\n",
       "      <th>Total_StudentAid</th>\n",
       "      <th>Total_Expense</th>\n",
       "    </tr>\n",
       "  </thead>\n",
       "  <tbody>\n",
       "    <tr>\n",
       "      <th>0</th>\n",
       "      <td>40726724.0</td>\n",
       "      <td>176300783.0</td>\n",
       "    </tr>\n",
       "    <tr>\n",
       "      <th>1</th>\n",
       "      <td>75326839.0</td>\n",
       "      <td>156658579.0</td>\n",
       "    </tr>\n",
       "    <tr>\n",
       "      <th>2</th>\n",
       "      <td>45346350.0</td>\n",
       "      <td>144133449.0</td>\n",
       "    </tr>\n",
       "    <tr>\n",
       "      <th>3</th>\n",
       "      <td>62676698.0</td>\n",
       "      <td>126942611.0</td>\n",
       "    </tr>\n",
       "    <tr>\n",
       "      <th>4</th>\n",
       "      <td>54543320.0</td>\n",
       "      <td>104947378.0</td>\n",
       "    </tr>\n",
       "  </tbody>\n",
       "</table>\n",
       "</div>"
      ],
      "text/plain": [
       "   Total_StudentAid  Total_Expense\n",
       "0        40726724.0    176300783.0\n",
       "1        75326839.0    156658579.0\n",
       "2        45346350.0    144133449.0\n",
       "3        62676698.0    126942611.0\n",
       "4        54543320.0    104947378.0"
      ]
     },
     "execution_count": 66,
     "metadata": {},
     "output_type": "execute_result"
    }
   ],
   "source": [
    "studentAid_df = budget_data_merged_total_summed[['Total_StudentAid','Total_Expense']].copy()\n",
    "studentAid_df = studentAid_df.sort_values(by='Total_Expense', ascending=False)\n",
    "studentAid_df = studentAid_df.reset_index(drop=True).head(25)\n",
    "studentAid_df.head()"
   ]
  },
  {
   "cell_type": "code",
   "execution_count": 94,
   "metadata": {},
   "outputs": [
    {
     "data": {
      "text/plain": [
       "(-0.25, 24.25)"
      ]
     },
     "execution_count": 94,
     "metadata": {},
     "output_type": "execute_result"
    },
    {
     "data": {
      "image/png": "[encoded data removed]",
      "text/plain": [
       "<Figure size 432x288 with 1 Axes>"
      ]
     },
     "metadata": {},
     "output_type": "display_data"
    }
   ],
   "source": [
    "# plot\n",
    "plot = studentAid_df.plot.area(alpha=0.5)\n",
    "figAll = plot.get_figure()\n",
    "plt.title(\"Colleges Total \\n Student Aid and Expense 2010-2017\")\n",
    "plt.xlabel(\"Data from Top 25 Colleges\")\n",
    "plt.ylabel(\"Student Aid and Expense (millions)\")\n",
    "plt.xticks(range(len(studentAid_df.index + 1)),studentAid_df.index + 1)\n",
    "#plt.ylim(0, 5.5)\n",
    "plt.xlim(-.25, 24.25)"
   ]
  },
  {
   "cell_type": "code",
   "execution_count": 68,
   "metadata": {},
   "outputs": [
    {
     "data": {
      "text/html": [
       "<div>\n",
       "<style scoped>\n",
       "    .dataframe tbody tr th:only-of-type {\n",
       "        vertical-align: middle;\n",
       "    }\n",
       "\n",
       "    .dataframe tbody tr th {\n",
       "        vertical-align: top;\n",
       "    }\n",
       "\n",
       "    .dataframe thead th {\n",
       "        text-align: right;\n",
       "    }\n",
       "</style>\n",
       "<table border=\"1\" class=\"dataframe\">\n",
       "  <thead>\n",
       "    <tr style=\"text-align: right;\">\n",
       "      <th></th>\n",
       "      <th>institution_name</th>\n",
       "      <th>Total_HeadCoachSalary</th>\n",
       "      <th>Total_Expense</th>\n",
       "    </tr>\n",
       "  </thead>\n",
       "  <tbody>\n",
       "    <tr>\n",
       "      <th>0</th>\n",
       "      <td>University of Louisville</td>\n",
       "      <td>7718377.0</td>\n",
       "      <td>176300783.0</td>\n",
       "    </tr>\n",
       "    <tr>\n",
       "      <th>1</th>\n",
       "      <td>Duke University</td>\n",
       "      <td>6248265.0</td>\n",
       "      <td>156658579.0</td>\n",
       "    </tr>\n",
       "    <tr>\n",
       "      <th>2</th>\n",
       "      <td>University of Kentucky</td>\n",
       "      <td>8866796.0</td>\n",
       "      <td>144133449.0</td>\n",
       "    </tr>\n",
       "    <tr>\n",
       "      <th>3</th>\n",
       "      <td>Syracuse University</td>\n",
       "      <td>3758480.0</td>\n",
       "      <td>126942611.0</td>\n",
       "    </tr>\n",
       "    <tr>\n",
       "      <th>4</th>\n",
       "      <td>Indiana University-Bloomington</td>\n",
       "      <td>4089659.0</td>\n",
       "      <td>104947378.0</td>\n",
       "    </tr>\n",
       "  </tbody>\n",
       "</table>\n",
       "</div>"
      ],
      "text/plain": [
       "                 institution_name  Total_HeadCoachSalary  Total_Expense\n",
       "0        University of Louisville              7718377.0    176300783.0\n",
       "1                 Duke University              6248265.0    156658579.0\n",
       "2          University of Kentucky              8866796.0    144133449.0\n",
       "3             Syracuse University              3758480.0    126942611.0\n",
       "4  Indiana University-Bloomington              4089659.0    104947378.0"
      ]
     },
     "execution_count": 68,
     "metadata": {},
     "output_type": "execute_result"
    }
   ],
   "source": [
    "coachSalary_df = budget_data_merged_total_summed[['institution_name','Total_HeadCoachSalary','Total_Expense']].copy()\n",
    "coachSalary_df = coachSalary_df.sort_values(by='Total_Expense', ascending=False)\n",
    "coachSalary_df = coachSalary_df.reset_index(drop=True).head(25)\n",
    "coachSalary_df.head()"
   ]
  },
  {
   "cell_type": "code",
   "execution_count": 93,
   "metadata": {},
   "outputs": [
    {
     "data": {
      "image/png": "[encoded data removed]",
      "text/plain": [
       "<Figure size 432x288 with 1 Axes>"
      ]
     },
     "metadata": {},
     "output_type": "display_data"
    }
   ],
   "source": [
    "y_pos = np.arange(len(coachSalary_df['institution_name']))\n",
    "salary = coachSalary_df['Total_HeadCoachSalary']\n",
    "expense = coachSalary_df['Total_Expense']\n",
    "\n",
    "coachSalary_df.plot.barh(stacked=True,alpha=0.5)\n",
    "#plt.barh(y_pos,salary, color=\"red\", stacked=True)\n",
    "#plt.barh(y_pos,expense, color=\"blue\", stacked=True)\n",
    "plt.show()"
   ]
  },
  {
   "cell_type": "code",
   "execution_count": 92,
   "metadata": {},
   "outputs": [
    {
     "data": {
      "text/plain": [
       "(-0.25, 24.25)"
      ]
     },
     "execution_count": 92,
     "metadata": {},
     "output_type": "execute_result"
    },
    {
     "data": {
      "image/png": "[encoded data removed]",
      "text/plain": [
       "<Figure size 432x288 with 1 Axes>"
      ]
     },
     "metadata": {},
     "output_type": "display_data"
    }
   ],
   "source": [
    "# plot\n",
    "plot = coachSalary_df.plot.area(alpha=0.5)\n",
    "figAll = plot.get_figure()\n",
    "plt.title(\"Colleges Total \\n Headcoach Salary and Expense 2010-2017\")\n",
    "plt.xlabel(\"Data from Top 25 Colleges\")\n",
    "plt.ylabel(\"Coach Salary and Expense (millions)\")\n",
    "plt.xticks(range(len(coachSalary_df.index + 1)),coachSalary_df.index + 1)\n",
    "#plt.ylim(0, 5.5)\n",
    "plt.xlim(-.25, 24.25)"
   ]
  },
  {
   "cell_type": "code",
   "execution_count": 39,
   "metadata": {},
   "outputs": [
    {
     "data": {
      "text/html": [
       "<div>\n",
       "<style scoped>\n",
       "    .dataframe tbody tr th:only-of-type {\n",
       "        vertical-align: middle;\n",
       "    }\n",
       "\n",
       "    .dataframe tbody tr th {\n",
       "        vertical-align: top;\n",
       "    }\n",
       "\n",
       "    .dataframe thead th {\n",
       "        text-align: right;\n",
       "    }\n",
       "</style>\n",
       "<table border=\"1\" class=\"dataframe\">\n",
       "  <thead>\n",
       "    <tr style=\"text-align: right;\">\n",
       "      <th></th>\n",
       "      <th>institution_name</th>\n",
       "      <th>Total_Revenue</th>\n",
       "      <th>Total_Expense</th>\n",
       "    </tr>\n",
       "  </thead>\n",
       "  <tbody>\n",
       "    <tr>\n",
       "      <th>0</th>\n",
       "      <td>University of Louisville</td>\n",
       "      <td>272985062.0</td>\n",
       "      <td>176300783.0</td>\n",
       "    </tr>\n",
       "    <tr>\n",
       "      <th>1</th>\n",
       "      <td>Duke University</td>\n",
       "      <td>205155916.0</td>\n",
       "      <td>156658579.0</td>\n",
       "    </tr>\n",
       "    <tr>\n",
       "      <th>2</th>\n",
       "      <td>University of Kentucky</td>\n",
       "      <td>166569620.0</td>\n",
       "      <td>144133449.0</td>\n",
       "    </tr>\n",
       "    <tr>\n",
       "      <th>3</th>\n",
       "      <td>Syracuse University</td>\n",
       "      <td>175512227.0</td>\n",
       "      <td>126942611.0</td>\n",
       "    </tr>\n",
       "    <tr>\n",
       "      <th>4</th>\n",
       "      <td>Indiana University-Bloomington</td>\n",
       "      <td>144558624.0</td>\n",
       "      <td>104947378.0</td>\n",
       "    </tr>\n",
       "  </tbody>\n",
       "</table>\n",
       "</div>"
      ],
      "text/plain": [
       "                 institution_name  Total_Revenue  Total_Expense\n",
       "0        University of Louisville    272985062.0    176300783.0\n",
       "1                 Duke University    205155916.0    156658579.0\n",
       "2          University of Kentucky    166569620.0    144133449.0\n",
       "3             Syracuse University    175512227.0    126942611.0\n",
       "4  Indiana University-Bloomington    144558624.0    104947378.0"
      ]
     },
     "execution_count": 39,
     "metadata": {},
     "output_type": "execute_result"
    }
   ],
   "source": [
    "revenue_df = budget_data_merged_total_summed[['institution_name','Total_Revenue','Total_Expense']].copy()\n",
    "revenue_df = revenue_df.sort_values(by='Total_Expense', ascending=False)\n",
    "revenue_df = revenue_df.reset_index(drop=True).head(25)\n",
    "revenue_df.head()"
   ]
  },
  {
   "cell_type": "code",
   "execution_count": 60,
   "metadata": {},
   "outputs": [
    {
     "data": {
      "text/html": [
       "<div>\n",
       "<style scoped>\n",
       "    .dataframe tbody tr th:only-of-type {\n",
       "        vertical-align: middle;\n",
       "    }\n",
       "\n",
       "    .dataframe tbody tr th {\n",
       "        vertical-align: top;\n",
       "    }\n",
       "\n",
       "    .dataframe thead th {\n",
       "        text-align: right;\n",
       "    }\n",
       "</style>\n",
       "<table border=\"1\" class=\"dataframe\">\n",
       "  <thead>\n",
       "    <tr style=\"text-align: right;\">\n",
       "      <th></th>\n",
       "      <th>Total_Expense</th>\n",
       "      <th>Total_Revenue</th>\n",
       "    </tr>\n",
       "  </thead>\n",
       "  <tbody>\n",
       "    <tr>\n",
       "      <th>0</th>\n",
       "      <td>176300783.0</td>\n",
       "      <td>272985062.0</td>\n",
       "    </tr>\n",
       "    <tr>\n",
       "      <th>1</th>\n",
       "      <td>156658579.0</td>\n",
       "      <td>205155916.0</td>\n",
       "    </tr>\n",
       "    <tr>\n",
       "      <th>2</th>\n",
       "      <td>144133449.0</td>\n",
       "      <td>166569620.0</td>\n",
       "    </tr>\n",
       "    <tr>\n",
       "      <th>3</th>\n",
       "      <td>126942611.0</td>\n",
       "      <td>175512227.0</td>\n",
       "    </tr>\n",
       "    <tr>\n",
       "      <th>4</th>\n",
       "      <td>104947378.0</td>\n",
       "      <td>144558624.0</td>\n",
       "    </tr>\n",
       "  </tbody>\n",
       "</table>\n",
       "</div>"
      ],
      "text/plain": [
       "   Total_Expense  Total_Revenue\n",
       "0    176300783.0    272985062.0\n",
       "1    156658579.0    205155916.0\n",
       "2    144133449.0    166569620.0\n",
       "3    126942611.0    175512227.0\n",
       "4    104947378.0    144558624.0"
      ]
     },
     "execution_count": 60,
     "metadata": {},
     "output_type": "execute_result"
    }
   ],
   "source": [
    "revenue_df_noInst = revenue_df[['Total_Expense','Total_Revenue']].copy()\n",
    "revenue_df_noInst.head()"
   ]
  },
  {
   "cell_type": "code",
   "execution_count": 63,
   "metadata": {},
   "outputs": [
    {
     "data": {
      "text/plain": [
       "(-0.25, 24.25)"
      ]
     },
     "execution_count": 63,
     "metadata": {},
     "output_type": "execute_result"
    },
    {
     "data": {
      "image/png": "[encoded data removed]",
      "text/plain": [
       "<Figure size 432x288 with 1 Axes>"
      ]
     },
     "metadata": {},
     "output_type": "display_data"
    }
   ],
   "source": [
    "# plot\n",
    "plot = revenue_df_noInst.plot.area()\n",
    "figexpense = plot.get_figure()\n",
    "plt.title(\"Colleges Total \\n Expenses and Revenues 2010-2017\")\n",
    "plt.xlabel(\"Data from Top 25 Colleges\")\n",
    "plt.ylabel(\"Expenses and Revenues (millions)\")\n",
    "plt.xticks(range(len(revenue_df_noInst.index + 2)),revenue_df_noInst.index + 1)\n",
    "#plt.ylim(0, 5.5)\n",
    "plt.xlim(-.25, 24.25)"
   ]
  },
  {
   "cell_type": "code",
   "execution_count": 77,
   "metadata": {},
   "outputs": [
    {
     "data": {
      "text/plain": [
       "<matplotlib.axes._subplots.AxesSubplot at 0x12a911668>"
      ]
     },
     "execution_count": 77,
     "metadata": {},
     "output_type": "execute_result"
    },
    {
     "data": {
      "image/png": "[encoded data removed]",
      "text/plain": [
       "<Figure size 432x288 with 1 Axes>"
      ]
     },
     "metadata": {},
     "output_type": "display_data"
    }
   ],
   "source": [
    "revenue_df_noInst.plot.barh(stacked=True)"
   ]
  },
  {
   "cell_type": "code",
   "execution_count": 79,
   "metadata": {},
   "outputs": [
    {
     "name": "stdout",
     "output_type": "stream",
     "text": [
      "The max expense is 176300783.0 and the min is 68932648.0\n"
     ]
    }
   ],
   "source": [
    "maxExpense = revenue_df_noInst['Total_Expense'].max()\n",
    "minExpense = revenue_df_noInst['Total_Expense'].min()\n",
    "print(f\"The max expense is {maxExpense} and the min is {minExpense}\")"
   ]
  },
  {
   "cell_type": "code",
   "execution_count": 91,
   "metadata": {},
   "outputs": [
    {
     "data": {
      "text/plain": [
       "(-0.25, 24.25)"
      ]
     },
     "execution_count": 91,
     "metadata": {},
     "output_type": "execute_result"
    },
    {
     "data": {
      "image/png": "[encoded data removed]",
      "text/plain": [
       "<Figure size 432x288 with 1 Axes>"
      ]
     },
     "metadata": {},
     "output_type": "display_data"
    }
   ],
   "source": [
    "# plot\n",
    "plot = top25revenue_df.plot.area(alpha=0.5)\n",
    "figAll = plot.get_figure()\n",
    "plt.title(\"Colleges Total \\n Expenses and Revenues 2010-2017\")\n",
    "plt.xlabel(\"Data from All Colleges\")\n",
    "plt.ylabel(\"Expenses and Revenues (millions)\")\n",
    "plt.xticks(range(len(top25revenue_df.index + 1)),top25revenue_df.index + 1)\n",
    "#plt.ylim(0, 5.5)\n",
    "plt.xlim(-.25, 24.25)\n"
   ]
  },
  {
   "cell_type": "code",
   "execution_count": 80,
   "metadata": {},
   "outputs": [
    {
     "name": "stdout",
     "output_type": "stream",
     "text": [
      "The total basketball budget for the top 25 colleges from 2009-2017 is 2337108307.0. For the same time, the combined revenues is 3125375327.0.\n"
     ]
    }
   ],
   "source": [
    "combined_budget_2009_2017 = top25revenue_df['Total_Expense'].sum()\n",
    "combined_revenue_2009_2017 = top25revenue_df['Total_Revenue'].sum()\n",
    "print(f\"The total basketball budget for the top 25 colleges from 2009-2017 is {combined_budget_2009_2017}. For the same time, the combined revenues is {combined_revenue_2009_2017}.\")"
   ]
  },
  {
   "cell_type": "code",
   "execution_count": 41,
   "metadata": {},
   "outputs": [],
   "source": [
    "#Gather variables\n",
    "#Number of unique colleges\n",
    "unique_college = player_data_df['college'].nunique()\n",
    "\n",
    "#Group colleges to count players\n",
    "playerGrouped = player_data_df.groupby('college').count()\n",
    "countByCollege = player_data_df.groupby(['college'], as_index=False).agg({'name':'count'}).rename(columns={'name':'count'})\n",
    "\n",
    "#singleCollege = countByCollege.groupby('count').size()\n",
    "singleCollege = countByCollege.loc[countByCollege['count'] == 1]\n",
    "singleCollege_sum = singleCollege['college'].count()\n",
    "\n",
    "#College Mode\n",
    "modeCollege_df = countByCollege['count'].sort_values(ascending=False)\n",
    "modeCollege_df = modeCollege_df.reset_index(drop=True)\n",
    "modeCollege = modeCollege_df.mode()\n",
    "modeCollege = modeCollege.iloc[0]\n",
    "modeCollege\n",
    "\n",
    "#Earliest start year\n",
    "minStartyear = player_data_df['year_start'].min()\n",
    "\n",
    "#Latest start year\n",
    "latestStartyear = player_data_df['year_start'].max()\n",
    "\n",
    "#Number of unique players\n",
    "unique_player = player_data_df['name'].nunique()\n",
    "\n",
    "#Copy player dataframe\n",
    "playerYears_df = player_data_df[['year_start','birth_date']].copy()\n",
    "\n",
    "#Birth year\n",
    "playerYears_df['birth_date'] = pd.to_datetime(playerYears_df['birth_date']).dt.year\n",
    "\n",
    "playerYears_df.head()\n",
    "playerYears_df['entryAge'] = playerYears_df['year_start'] - playerYears_df['birth_date']\n",
    "\n",
    "averageStartage = playerYears_df['entryAge'].mean()\n",
    "averageStartage = np.round(averageStartage, decimals=2)\n",
    "\n",
    "#ageYeargroup = playerYears_df.groupby('year_start')\n",
    "ageYeargroup = playerYears_df.groupby(['year_start'], as_index=False).agg({'entryAge':'mean'}).rename(columns={'entryAge':'AverAge'})\n",
    "\n",
    "firstYearAverageAge = ageYeargroup.iloc[0]['AverAge']\n",
    "firstYearAverageAge = np.round(firstYearAverageAge, decimals=2)\n",
    "\n",
    "currentYearAverageAge = ageYeargroup.iloc[-1]['AverAge']\n",
    "currentYearAverageAge = np.round(currentYearAverageAge, decimals=2)"
   ]
  },
  {
   "cell_type": "code",
   "execution_count": 42,
   "metadata": {},
   "outputs": [
    {
     "data": {
      "image/png": "[encoded data removed]",
      "text/plain": [
       "<Figure size 432x288 with 1 Axes>"
      ]
     },
     "metadata": {},
     "output_type": "display_data"
    }
   ],
   "source": [
    "year_strt = ageYeargroup['year_start']\n",
    "AverAge = ageYeargroup['AverAge']\n",
    "plt.title(\"Average Entry Age by Year\")\n",
    "plt.xlabel(\"Year\")\n",
    "plt.ylabel(\"Age\")\n",
    "\n",
    "plt.plot(year_strt, AverAge)\n",
    "fig1 = plt.gcf()\n",
    "plt.show()"
   ]
  },
  {
   "cell_type": "code",
   "execution_count": 43,
   "metadata": {},
   "outputs": [],
   "source": [
    "#plt.show()\n",
    "#plt.draw()\n",
    "fig1.savefig('average_age.png', dpi=100)\n",
    "#plt.savefig('average_age.png', dpi=100)"
   ]
  },
  {
   "cell_type": "code",
   "execution_count": 44,
   "metadata": {},
   "outputs": [
    {
     "data": {
      "text/html": [
       "<div>\n",
       "<style scoped>\n",
       "    .dataframe tbody tr th:only-of-type {\n",
       "        vertical-align: middle;\n",
       "    }\n",
       "\n",
       "    .dataframe tbody tr th {\n",
       "        vertical-align: top;\n",
       "    }\n",
       "\n",
       "    .dataframe thead th {\n",
       "        text-align: right;\n",
       "    }\n",
       "</style>\n",
       "<table border=\"1\" class=\"dataframe\">\n",
       "  <thead>\n",
       "    <tr style=\"text-align: right;\">\n",
       "      <th></th>\n",
       "      <th>college</th>\n",
       "      <th>count</th>\n",
       "    </tr>\n",
       "  </thead>\n",
       "  <tbody>\n",
       "    <tr>\n",
       "      <th>0</th>\n",
       "      <td>Acadia University</td>\n",
       "      <td>1</td>\n",
       "    </tr>\n",
       "    <tr>\n",
       "      <th>1</th>\n",
       "      <td>Alabama - Huntsville</td>\n",
       "      <td>1</td>\n",
       "    </tr>\n",
       "    <tr>\n",
       "      <th>2</th>\n",
       "      <td>Alabama A&amp;M University</td>\n",
       "      <td>1</td>\n",
       "    </tr>\n",
       "    <tr>\n",
       "      <th>3</th>\n",
       "      <td>Alabama State University</td>\n",
       "      <td>2</td>\n",
       "    </tr>\n",
       "    <tr>\n",
       "      <th>4</th>\n",
       "      <td>Albany State University</td>\n",
       "      <td>5</td>\n",
       "    </tr>\n",
       "  </tbody>\n",
       "</table>\n",
       "</div>"
      ],
      "text/plain": [
       "                    college  count\n",
       "0         Acadia University      1\n",
       "1      Alabama - Huntsville      1\n",
       "2    Alabama A&M University      1\n",
       "3  Alabama State University      2\n",
       "4   Albany State University      5"
      ]
     },
     "execution_count": 44,
     "metadata": {},
     "output_type": "execute_result"
    }
   ],
   "source": [
    "playerGrouped = player_data_df.groupby('college').count()\n",
    "countByCollege = player_data_df.groupby(['college'], as_index=False).agg({'name':'count'}).rename(columns={'name':'count'})\n",
    "countByCollege.head()"
   ]
  },
  {
   "cell_type": "code",
   "execution_count": 45,
   "metadata": {},
   "outputs": [
    {
     "data": {
      "text/html": [
       "<div>\n",
       "<style scoped>\n",
       "    .dataframe tbody tr th:only-of-type {\n",
       "        vertical-align: middle;\n",
       "    }\n",
       "\n",
       "    .dataframe tbody tr th {\n",
       "        vertical-align: top;\n",
       "    }\n",
       "\n",
       "    .dataframe thead th {\n",
       "        text-align: right;\n",
       "    }\n",
       "</style>\n",
       "<table border=\"1\" class=\"dataframe\">\n",
       "  <thead>\n",
       "    <tr style=\"text-align: right;\">\n",
       "      <th></th>\n",
       "      <th>college</th>\n",
       "      <th>count</th>\n",
       "    </tr>\n",
       "  </thead>\n",
       "  <tbody>\n",
       "    <tr>\n",
       "      <th>0</th>\n",
       "      <td>University of Kentucky</td>\n",
       "      <td>99</td>\n",
       "    </tr>\n",
       "    <tr>\n",
       "      <th>1</th>\n",
       "      <td>University of California-Los Angeles</td>\n",
       "      <td>91</td>\n",
       "    </tr>\n",
       "    <tr>\n",
       "      <th>2</th>\n",
       "      <td>University of North Carolina at Chapel Hill</td>\n",
       "      <td>87</td>\n",
       "    </tr>\n",
       "    <tr>\n",
       "      <th>3</th>\n",
       "      <td>University of Kansas</td>\n",
       "      <td>72</td>\n",
       "    </tr>\n",
       "    <tr>\n",
       "      <th>4</th>\n",
       "      <td>Duke University</td>\n",
       "      <td>71</td>\n",
       "    </tr>\n",
       "  </tbody>\n",
       "</table>\n",
       "</div>"
      ],
      "text/plain": [
       "                                       college  count\n",
       "0                       University of Kentucky     99\n",
       "1         University of California-Los Angeles     91\n",
       "2  University of North Carolina at Chapel Hill     87\n",
       "3                         University of Kansas     72\n",
       "4                              Duke University     71"
      ]
     },
     "execution_count": 45,
     "metadata": {},
     "output_type": "execute_result"
    }
   ],
   "source": [
    "top25colleges = countByCollege.sort_values(by = 'count', ascending=False).head(25)\n",
    "top25colleges = top25colleges.reset_index(drop=True)\n",
    "top25colleges.head()"
   ]
  },
  {
   "cell_type": "code",
   "execution_count": 46,
   "metadata": {},
   "outputs": [
    {
     "data": {
      "text/plain": [
       "<BarContainer object of 25 artists>"
      ]
     },
     "execution_count": 46,
     "metadata": {},
     "output_type": "execute_result"
    },
    {
     "data": {
      "image/png": "[encoded data removed]",
      "text/plain": [
       "<Figure size 432x288 with 1 Axes>"
      ]
     },
     "metadata": {},
     "output_type": "display_data"
    }
   ],
   "source": [
    "bar25colleges = top25colleges['college']\n",
    "bar25count = top25colleges['count']\n",
    "width = [5, 10, 15, 20, 25, 30, 35, 40, 45, 50, 55, 60, 65, 70, 75, 80, 85, 90, 95, 100, 105, 110, 115, 120, 125]\n",
    "\n",
    "plt.title(\"Top 25 Colleges\")\n",
    "plt.xlabel(\"Colleges\")\n",
    "plt.ylabel(\"Number of Players\")\n",
    "plt.xticks(rotation=90)\n",
    "top25colleges['college']\n",
    "\n",
    "fig2 = plt.gcf()\n",
    "plt.xticks(width, bar25colleges)\n",
    "plt.bar(width, bar25count, color='lightblue', alpha=0.5, align=\"center\", width=3)"
   ]
  },
  {
   "cell_type": "code",
   "execution_count": 47,
   "metadata": {},
   "outputs": [],
   "source": [
    "fig2.savefig('top25colleges.png', dpi=100)"
   ]
  },
  {
   "cell_type": "code",
   "execution_count": null,
   "metadata": {},
   "outputs": [],
   "source": [
    "top25colleges[\"Lat\"] = \"\"\n",
    "top25colleges[\"Lng\"] = \"\"\n",
    "top25colleges"
   ]
  },
  {
   "cell_type": "code",
   "execution_count": null,
   "metadata": {},
   "outputs": [],
   "source": [
    "# create a params dict that will be updated with new city each iteration\n",
    "params2 = {\"key\": gkey}\n",
    "\n",
    "# Loop through the cities_pd and run a lat/long search for each city\n",
    "for index, row in top25colleges.iterrows():\n",
    "    base_url = \"https://maps.googleapis.com/maps/api/geocode/json\"\n",
    "\n",
    "    city = row['college']\n",
    "\n",
    "    # update address key value\n",
    "    params2['address'] = city\n",
    "\n",
    "    # make request\n",
    "    cities_lat_lng = requests.get(base_url, params=params2)\n",
    "    \n",
    "    # print the cities_lat_lng url, avoid doing for public github repos in order to avoid exposing key\n",
    "    # print(cities_lat_lng.url)\n",
    "    \n",
    "    # convert to json\n",
    "    cities_lat_lng = cities_lat_lng.json()\n",
    "\n",
    "    top25colleges.loc[index, \"Lat\"] = cities_lat_lng[\"results\"][0][\"geometry\"][\"location\"][\"lat\"]\n",
    "    top25colleges.loc[index, \"Lng\"] = cities_lat_lng[\"results\"][0][\"geometry\"][\"location\"][\"lng\"]\n",
    "\n",
    "# Visualize to confirm lat lng appear\n",
    "top25colleges"
   ]
  },
  {
   "cell_type": "code",
   "execution_count": null,
   "metadata": {},
   "outputs": [],
   "source": [
    "top25colleges.to_csv(\"output-latlong-25.csv\")"
   ]
  },
  {
   "cell_type": "code",
   "execution_count": null,
   "metadata": {},
   "outputs": [],
   "source": [
    "# Store latitude and longitude in locations\n",
    "locations = top25colleges[[\"Lat\", \"Lng\"]]\n",
    "\n",
    "# Fill NaN values and convert to float\n",
    "count = top25colleges[\"count\"].astype(float)"
   ]
  },
  {
   "cell_type": "code",
   "execution_count": null,
   "metadata": {
    "scrolled": true
   },
   "outputs": [],
   "source": [
    "# Plot Heatmap\n",
    "fig = gmaps.figure()\n",
    "\n",
    "# Create heat layer\n",
    "heat_layer = gmaps.heatmap_layer(locations, weights=count, \n",
    "                                 dissipating=False, max_intensity=100,\n",
    "                                 point_radius=1)\n",
    "\n",
    "\n",
    "# Add layer\n",
    "fig.add_layer(heat_layer)\n",
    "\n",
    "# Display figure\n",
    "fig"
   ]
  },
  {
   "cell_type": "code",
   "execution_count": null,
   "metadata": {},
   "outputs": [],
   "source": []
  },
  {
   "cell_type": "code",
   "execution_count": null,
   "metadata": {},
   "outputs": [],
   "source": [
    "print(\"The data consisted of two .csvs: one that had player data and one that had seasons.\")\n",
    "print(f\"The player data had {unique_player} players that came from {unique_college} unique colleges. The NBA start years ranged from {minStartyear} to {latestStartyear}. The average age of the players entering the NBA over that time is {averageStartage}, though the average age has come down from {firstYearAverageAge} to {currentYearAverageAge} this year. One tidbit: the mode of the player count by college is {modeCollege}, which makes sense because {singleCollege_sum} of the colleges only sent one player to the NBA! \")"
   ]
  },
  {
   "cell_type": "code",
   "execution_count": null,
   "metadata": {},
   "outputs": [],
   "source": []
  }
 ],
 "metadata": {
  "kernelspec": {
   "display_name": "Python 3",
   "language": "python",
   "name": "python3"
  },
  "language_info": {
   "codemirror_mode": {
    "name": "ipython",
    "version": 3
   },
   "file_extension": ".py",
   "mimetype": "text/x-python",
   "name": "python",
   "nbconvert_exporter": "python",
   "pygments_lexer": "ipython3",
   "version": "3.6.5"
  }
 },
 "nbformat": 4,
 "nbformat_minor": 2
}
